{
  "nbformat": 4,
  "nbformat_minor": 0,
  "metadata": {
    "colab": {
      "provenance": [],
      "mount_file_id": "1xVFnbeN2j6mEPD4U1QKrgW-Kh7hDBoqT",
      "authorship_tag": "ABX9TyMTQ0wBgkWWHdQewrKsSImm",
      "include_colab_link": true
    },
    "kernelspec": {
      "name": "python3",
      "display_name": "Python 3"
    },
    "language_info": {
      "name": "python"
    }
  },
  "cells": [
    {
      "cell_type": "markdown",
      "metadata": {
        "id": "view-in-github",
        "colab_type": "text"
      },
      "source": [
        "<a href=\"https://colab.research.google.com/github/dariRusAG/CBOW/blob/main/cbow.ipynb\" target=\"_parent\"><img src=\"https://colab.research.google.com/assets/colab-badge.svg\" alt=\"Open In Colab\"/></a>"
      ]
    },
    {
      "cell_type": "markdown",
      "source": [
        "# Практическая реализация Word2Vec: CBOW"
      ],
      "metadata": {
        "id": "WToWTOaQHbkg"
      }
    },
    {
      "cell_type": "markdown",
      "source": [
        "## Загрузка бибилиотек и файлов"
      ],
      "metadata": {
        "id": "WqYtv9TfHV7f"
      }
    },
    {
      "cell_type": "code",
      "source": [
        "from google.colab import files\n",
        "uploaded = files.upload()"
      ],
      "metadata": {
        "colab": {
          "base_uri": "https://localhost:8080/",
          "height": 74
        },
        "id": "X26Cq6JhoXQV",
        "outputId": "94ce2bf0-b6c7-4f66-d81e-8101a87d97cd"
      },
      "execution_count": null,
      "outputs": [
        {
          "output_type": "display_data",
          "data": {
            "text/plain": [
              "<IPython.core.display.HTML object>"
            ],
            "text/html": [
              "\n",
              "     <input type=\"file\" id=\"files-9e72ec90-cf33-4c7a-8d13-ccd89727d371\" name=\"files[]\" multiple disabled\n",
              "        style=\"border:none\" />\n",
              "     <output id=\"result-9e72ec90-cf33-4c7a-8d13-ccd89727d371\">\n",
              "      Upload widget is only available when the cell has been executed in the\n",
              "      current browser session. Please rerun this cell to enable.\n",
              "      </output>\n",
              "      <script>// Copyright 2017 Google LLC\n",
              "//\n",
              "// Licensed under the Apache License, Version 2.0 (the \"License\");\n",
              "// you may not use this file except in compliance with the License.\n",
              "// You may obtain a copy of the License at\n",
              "//\n",
              "//      http://www.apache.org/licenses/LICENSE-2.0\n",
              "//\n",
              "// Unless required by applicable law or agreed to in writing, software\n",
              "// distributed under the License is distributed on an \"AS IS\" BASIS,\n",
              "// WITHOUT WARRANTIES OR CONDITIONS OF ANY KIND, either express or implied.\n",
              "// See the License for the specific language governing permissions and\n",
              "// limitations under the License.\n",
              "\n",
              "/**\n",
              " * @fileoverview Helpers for google.colab Python module.\n",
              " */\n",
              "(function(scope) {\n",
              "function span(text, styleAttributes = {}) {\n",
              "  const element = document.createElement('span');\n",
              "  element.textContent = text;\n",
              "  for (const key of Object.keys(styleAttributes)) {\n",
              "    element.style[key] = styleAttributes[key];\n",
              "  }\n",
              "  return element;\n",
              "}\n",
              "\n",
              "// Max number of bytes which will be uploaded at a time.\n",
              "const MAX_PAYLOAD_SIZE = 100 * 1024;\n",
              "\n",
              "function _uploadFiles(inputId, outputId) {\n",
              "  const steps = uploadFilesStep(inputId, outputId);\n",
              "  const outputElement = document.getElementById(outputId);\n",
              "  // Cache steps on the outputElement to make it available for the next call\n",
              "  // to uploadFilesContinue from Python.\n",
              "  outputElement.steps = steps;\n",
              "\n",
              "  return _uploadFilesContinue(outputId);\n",
              "}\n",
              "\n",
              "// This is roughly an async generator (not supported in the browser yet),\n",
              "// where there are multiple asynchronous steps and the Python side is going\n",
              "// to poll for completion of each step.\n",
              "// This uses a Promise to block the python side on completion of each step,\n",
              "// then passes the result of the previous step as the input to the next step.\n",
              "function _uploadFilesContinue(outputId) {\n",
              "  const outputElement = document.getElementById(outputId);\n",
              "  const steps = outputElement.steps;\n",
              "\n",
              "  const next = steps.next(outputElement.lastPromiseValue);\n",
              "  return Promise.resolve(next.value.promise).then((value) => {\n",
              "    // Cache the last promise value to make it available to the next\n",
              "    // step of the generator.\n",
              "    outputElement.lastPromiseValue = value;\n",
              "    return next.value.response;\n",
              "  });\n",
              "}\n",
              "\n",
              "/**\n",
              " * Generator function which is called between each async step of the upload\n",
              " * process.\n",
              " * @param {string} inputId Element ID of the input file picker element.\n",
              " * @param {string} outputId Element ID of the output display.\n",
              " * @return {!Iterable<!Object>} Iterable of next steps.\n",
              " */\n",
              "function* uploadFilesStep(inputId, outputId) {\n",
              "  const inputElement = document.getElementById(inputId);\n",
              "  inputElement.disabled = false;\n",
              "\n",
              "  const outputElement = document.getElementById(outputId);\n",
              "  outputElement.innerHTML = '';\n",
              "\n",
              "  const pickedPromise = new Promise((resolve) => {\n",
              "    inputElement.addEventListener('change', (e) => {\n",
              "      resolve(e.target.files);\n",
              "    });\n",
              "  });\n",
              "\n",
              "  const cancel = document.createElement('button');\n",
              "  inputElement.parentElement.appendChild(cancel);\n",
              "  cancel.textContent = 'Cancel upload';\n",
              "  const cancelPromise = new Promise((resolve) => {\n",
              "    cancel.onclick = () => {\n",
              "      resolve(null);\n",
              "    };\n",
              "  });\n",
              "\n",
              "  // Wait for the user to pick the files.\n",
              "  const files = yield {\n",
              "    promise: Promise.race([pickedPromise, cancelPromise]),\n",
              "    response: {\n",
              "      action: 'starting',\n",
              "    }\n",
              "  };\n",
              "\n",
              "  cancel.remove();\n",
              "\n",
              "  // Disable the input element since further picks are not allowed.\n",
              "  inputElement.disabled = true;\n",
              "\n",
              "  if (!files) {\n",
              "    return {\n",
              "      response: {\n",
              "        action: 'complete',\n",
              "      }\n",
              "    };\n",
              "  }\n",
              "\n",
              "  for (const file of files) {\n",
              "    const li = document.createElement('li');\n",
              "    li.append(span(file.name, {fontWeight: 'bold'}));\n",
              "    li.append(span(\n",
              "        `(${file.type || 'n/a'}) - ${file.size} bytes, ` +\n",
              "        `last modified: ${\n",
              "            file.lastModifiedDate ? file.lastModifiedDate.toLocaleDateString() :\n",
              "                                    'n/a'} - `));\n",
              "    const percent = span('0% done');\n",
              "    li.appendChild(percent);\n",
              "\n",
              "    outputElement.appendChild(li);\n",
              "\n",
              "    const fileDataPromise = new Promise((resolve) => {\n",
              "      const reader = new FileReader();\n",
              "      reader.onload = (e) => {\n",
              "        resolve(e.target.result);\n",
              "      };\n",
              "      reader.readAsArrayBuffer(file);\n",
              "    });\n",
              "    // Wait for the data to be ready.\n",
              "    let fileData = yield {\n",
              "      promise: fileDataPromise,\n",
              "      response: {\n",
              "        action: 'continue',\n",
              "      }\n",
              "    };\n",
              "\n",
              "    // Use a chunked sending to avoid message size limits. See b/62115660.\n",
              "    let position = 0;\n",
              "    do {\n",
              "      const length = Math.min(fileData.byteLength - position, MAX_PAYLOAD_SIZE);\n",
              "      const chunk = new Uint8Array(fileData, position, length);\n",
              "      position += length;\n",
              "\n",
              "      const base64 = btoa(String.fromCharCode.apply(null, chunk));\n",
              "      yield {\n",
              "        response: {\n",
              "          action: 'append',\n",
              "          file: file.name,\n",
              "          data: base64,\n",
              "        },\n",
              "      };\n",
              "\n",
              "      let percentDone = fileData.byteLength === 0 ?\n",
              "          100 :\n",
              "          Math.round((position / fileData.byteLength) * 100);\n",
              "      percent.textContent = `${percentDone}% done`;\n",
              "\n",
              "    } while (position < fileData.byteLength);\n",
              "  }\n",
              "\n",
              "  // All done.\n",
              "  yield {\n",
              "    response: {\n",
              "      action: 'complete',\n",
              "    }\n",
              "  };\n",
              "}\n",
              "\n",
              "scope.google = scope.google || {};\n",
              "scope.google.colab = scope.google.colab || {};\n",
              "scope.google.colab._files = {\n",
              "  _uploadFiles,\n",
              "  _uploadFilesContinue,\n",
              "};\n",
              "})(self);\n",
              "</script> "
            ]
          },
          "metadata": {}
        },
        {
          "output_type": "stream",
          "name": "stdout",
          "text": [
            "Saving source-text.txt to source-text.txt\n"
          ]
        }
      ]
    },
    {
      "cell_type": "code",
      "execution_count": null,
      "metadata": {
        "colab": {
          "base_uri": "https://localhost:8080/"
        },
        "id": "VaChSWn5dK26",
        "outputId": "e658892a-01e9-4b41-da55-f1e55eb53478"
      },
      "outputs": [
        {
          "output_type": "stream",
          "name": "stderr",
          "text": [
            "[nltk_data] Downloading package stopwords to /root/nltk_data...\n",
            "[nltk_data]   Unzipping corpora/stopwords.zip.\n",
            "[nltk_data] Downloading package punkt to /root/nltk_data...\n",
            "[nltk_data]   Unzipping tokenizers/punkt.zip.\n"
          ]
        }
      ],
      "source": [
        "import pandas as pd\n",
        "import numpy as np\n",
        "import re\n",
        "import nltk\n",
        "nltk.download('stopwords')\n",
        "nltk.download('punkt')\n",
        "import matplotlib.pyplot as plt\n",
        "\n",
        "pd.options.display.max_colwidth = 200\n",
        "%matplotlib inline\n",
        "\n",
        "from nltk import sent_tokenize, word_tokenize\n",
        "from string import punctuation"
      ]
    },
    {
      "cell_type": "markdown",
      "source": [
        "## Предообработка текста"
      ],
      "metadata": {
        "id": "v_3bT0gBJLsN"
      }
    },
    {
      "cell_type": "code",
      "source": [
        "with open(\"Anna-Karenina.txt\", \"r\", encoding=\"utf-8\") as file:\n",
        "  text = file.read()\n",
        "\n",
        "# Токенизация текста\n",
        "text = sent_tokenize(text, language='russian')\n",
        "words_text = []\n",
        "\n",
        "for sent in text:\n",
        "  sent = word_tokenize(sent, language='russian') \n",
        "  words_text.append(sent)\n",
        "\n",
        "print('Количество предложений:', len(words_text))\n",
        "print('Пример предложения:', words_text[12])"
      ],
      "metadata": {
        "colab": {
          "base_uri": "https://localhost:8080/"
        },
        "id": "jTTLvP2KqvZe",
        "outputId": "403c51e0-a14c-4448-f44a-e5301f149d52"
      },
      "execution_count": null,
      "outputs": [
        {
          "output_type": "stream",
          "name": "stdout",
          "text": [
            "Количество предложений: 19874\n",
            "Пример предложения: ['Алабин', 'давал', 'обед', 'в', 'Дармштадте', ';', 'нет', ',', 'не', 'в', 'Дармштадте', ',', 'а', 'что-то', 'американское', '.']\n"
          ]
        }
      ]
    },
    {
      "cell_type": "code",
      "source": [
        "# Обработка массива токенизированного текста\n",
        "stop_words = nltk.corpus.stopwords.words('russian')\n",
        "remove_terms = punctuation + '0123456789' + str(stop_words) + 'XVI'\n",
        "\n",
        "# Приведение в нижний регистр и удаление знаков препинаний, цифр и стоп-слов\n",
        "norm_words_text = [[word.lower() for word in sent if word not in remove_terms] for sent in words_text]\n",
        "\n",
        "# Удаление лишних пробелов в словах\n",
        "norm_words_text = [' '.join(tok_sent) for tok_sent in norm_words_text]\n",
        "\n",
        "# Фильтрация пустых значений\n",
        "norm_words_text = filter(None, norm_words_text)\n",
        "\n",
        "# Оставляет предложения, длина которых больше двух слов\n",
        "norm_words_text = [tok_sent for tok_sent in norm_words_text if len(tok_sent.split()) > 2]\n",
        "\n",
        "print('Пример обработанного предложения:', norm_words_text[9])"
      ],
      "metadata": {
        "colab": {
          "base_uri": "https://localhost:8080/"
        },
        "id": "6dKYH0_PwioK",
        "outputId": "1f8b16d1-c267-4b4b-da0c-dd323fdea2ba"
      },
      "execution_count": null,
      "outputs": [
        {
          "output_type": "stream",
          "name": "stdout",
          "text": [
            "Пример обработанного предложения: алабин давал обед дармштадте дармштадте что-то американское\n"
          ]
        }
      ]
    },
    {
      "cell_type": "markdown",
      "source": [
        "## Реализация модели непрерывного мешка слов (CBOW)\n",
        "Мы будем использовать корпус произведения Льва Толстова, содержащийся в norm_words_text переменной, для обучения нашей модели. \n",
        "\n",
        "Реализация будет состоять из пяти частей:\n",
        "- Формирование корпусной лексики.\n",
        "- Создание генератора CBOW (контекст, цель)\n",
        "- Создание архитектуры модели CBOW\n",
        "- Обучение модели\n",
        "- Получение вложения слов"
      ],
      "metadata": {
        "id": "nMhBzsUQL3Eh"
      }
    },
    {
      "cell_type": "markdown",
      "source": [
        "### Формирование корпусной лексики"
      ],
      "metadata": {
        "id": "7hvfJGhdMgQQ"
      }
    },
    {
      "cell_type": "code",
      "source": [
        "from keras.preprocessing import text\n",
        "from keras.utils import np_utils\n",
        "from keras.utils import pad_sequences\n",
        "\n",
        "# Класс для векторизации текстового корпуса\n",
        "tokenizer = text.Tokenizer()\n",
        "\n",
        "# Создание словаря на основе списка предложений\n",
        "tokenizer.fit_on_texts(norm_words_text)\n",
        "# Указываем для возможной замены слов вне словаря\n",
        "word2id = tokenizer.word_index\n",
        "word2id['PAD'] = 0\n",
        "\n",
        "# Запись словаря для каждого слова\n",
        "id2word = {v:k for k, v in word2id.items()}\n",
        "# Запись массива индексов слов по предложениям\n",
        "wids = [[word2id[w] for w in text.text_to_word_sequence(doc)] for doc in norm_words_text]\n",
        "\n",
        "vocab_size = len(word2id)\n",
        "# Параметр размера встраивания\n",
        "embed_size = 100\n",
        "# Параметр размера окна\n",
        "window_size = 2\n",
        "\n",
        "print('Размер словаря:', vocab_size)\n",
        "print('Пример отрезка записей:', list(word2id.items())[12:18])"
      ],
      "metadata": {
        "colab": {
          "base_uri": "https://localhost:8080/"
        },
        "outputId": "9311bac6-8dcf-485b-8767-6f61b4bc7673",
        "id": "OcEFK5VoMz2m"
      },
      "execution_count": null,
      "outputs": [
        {
          "output_type": "stream",
          "name": "stdout",
          "text": [
            "Размер словаря: 33581\n",
            "Пример отрезка записей: [('кити', 13), ('что', 14), ('да', 15), ('очень', 16), ('вронский', 17), ('анна', 18)]\n"
          ]
        }
      ]
    },
    {
      "cell_type": "markdown",
      "source": [
        "### Создание генератора CBOW"
      ],
      "metadata": {
        "id": "1SBbeQbSQKZl"
      }
    },
    {
      "cell_type": "code",
      "source": [
        "# Функция создания окружающего контекста\n",
        "def generate_context_word_pairs(corpus, window_size, vocab_size):\n",
        "    context_length = window_size*2\n",
        "    for words in corpus:\n",
        "        sentence_length = len(words)\n",
        "        for index, word in enumerate(words):\n",
        "            context_words = []\n",
        "            label_word   = []            \n",
        "            start = index - window_size\n",
        "            end = index + window_size + 1\n",
        "            \n",
        "            context_words.append([words[i] \n",
        "                                 for i in range(start, end) \n",
        "                                 if 0 <= i < sentence_length \n",
        "                                 and i != index])\n",
        "            label_word.append(word)\n",
        "\n",
        "            x = pad_sequences(context_words, maxlen=context_length)\n",
        "            y = np_utils.to_categorical(label_word, vocab_size)\n",
        "            yield (x, y)"
      ],
      "metadata": {
        "id": "2q3JgY1Gedyp"
      },
      "execution_count": null,
      "outputs": []
    },
    {
      "cell_type": "code",
      "source": [
        "# Проверка работы функции на некоторых образцах\n",
        "i = 0\n",
        "for x, y in generate_context_word_pairs(corpus=wids, window_size=window_size, vocab_size=vocab_size):\n",
        "    if 0 not in x[0]:\n",
        "        print('Контекст (X):', [id2word[w] for w in x[0]], '-> Целевое слово (Y):', id2word[np.argwhere(y[0])[0][0]])\n",
        "    \n",
        "        if i == 10:\n",
        "            break\n",
        "        i += 1"
      ],
      "metadata": {
        "colab": {
          "base_uri": "https://localhost:8080/"
        },
        "id": "G6_n_ZGW7lEx",
        "outputId": "97ffb505-5366-480a-f5dc-ad6e104579c9"
      },
      "execution_count": null,
      "outputs": [
        {
          "output_type": "stream",
          "name": "stdout",
          "text": [
            "Контекст (X): ['часть', 'первая', 'счастливые', 'семьи'] -> Целевое слово (Y): все\n",
            "Контекст (X): ['первая', 'все', 'семьи', 'похожи'] -> Целевое слово (Y): счастливые\n",
            "Контекст (X): ['все', 'счастливые', 'похожи', 'друга'] -> Целевое слово (Y): семьи\n",
            "Контекст (X): ['счастливые', 'семьи', 'друга', 'каждая'] -> Целевое слово (Y): похожи\n",
            "Контекст (X): ['семьи', 'похожи', 'каждая', 'несчастливая'] -> Целевое слово (Y): друга\n",
            "Контекст (X): ['похожи', 'друга', 'несчастливая', 'семья'] -> Целевое слово (Y): каждая\n",
            "Контекст (X): ['друга', 'каждая', 'семья', 'несчастлива'] -> Целевое слово (Y): несчастливая\n",
            "Контекст (X): ['каждая', 'несчастливая', 'несчастлива', 'по'] -> Целевое слово (Y): семья\n",
            "Контекст (X): ['несчастливая', 'семья', 'по', 'своему'] -> Целевое слово (Y): несчастлива\n",
            "Контекст (X): ['жена', 'узнала', 'связи', 'бывшею'] -> Целевое слово (Y): муж\n",
            "Контекст (X): ['узнала', 'муж', 'бывшею', 'доме'] -> Целевое слово (Y): связи\n"
          ]
        }
      ]
    },
    {
      "cell_type": "markdown",
      "source": [
        "### Создание архитектуры модели CBOW"
      ],
      "metadata": {
        "id": "PJXnE5I_UjL0"
      }
    },
    {
      "cell_type": "markdown",
      "source": [
        "#### Сводная информация о модели CBOW"
      ],
      "metadata": {
        "id": "0zw7uHWqVE13"
      }
    },
    {
      "cell_type": "code",
      "source": [
        "import keras.backend as K\n",
        "from keras.models import Sequential\n",
        "from keras.layers import Dense, Embedding, Lambda\n",
        "\n",
        "# Предоставляет функции обучения и вывода на модели\n",
        "cbow = Sequential()\n",
        "# Превращает индексы в плотные векторы фиксированного размера\n",
        "cbow.add(Embedding(input_dim=vocab_size, output_dim=embed_size, input_length=window_size*2))\n",
        "# Позволяет использовать произвольные выражения можно как Layer (слои)\n",
        "cbow.add(Lambda(lambda x: K.mean(x, axis=1), output_shape=(embed_size,)))\n",
        "# Плотно связанный слой NN\n",
        "cbow.add(Dense(vocab_size, activation='softmax'))\n",
        "\n",
        "# Настройка модели для обучения (задаем функцию потерь и связываем с оптимизатором)\n",
        "cbow.compile(loss='categorical_crossentropy', optimizer='rmsprop')\n",
        "print(cbow.summary())"
      ],
      "metadata": {
        "colab": {
          "base_uri": "https://localhost:8080/"
        },
        "id": "THbdXyevgPWU",
        "outputId": "cd0fa5c5-1c46-41b9-f0d7-7ccd73841949"
      },
      "execution_count": null,
      "outputs": [
        {
          "output_type": "stream",
          "name": "stdout",
          "text": [
            "Model: \"sequential_1\"\n",
            "_________________________________________________________________\n",
            " Layer (type)                Output Shape              Param #   \n",
            "=================================================================\n",
            " embedding_1 (Embedding)     (None, 4, 100)            3358100   \n",
            "                                                                 \n",
            " lambda_1 (Lambda)           (None, 100)               0         \n",
            "                                                                 \n",
            " dense_1 (Dense)             (None, 33581)             3391681   \n",
            "                                                                 \n",
            "=================================================================\n",
            "Total params: 6,749,781\n",
            "Trainable params: 6,749,781\n",
            "Non-trainable params: 0\n",
            "_________________________________________________________________\n",
            "None\n"
          ]
        }
      ]
    },
    {
      "cell_type": "markdown",
      "source": [
        "#### Архитектура модели CBOW"
      ],
      "metadata": {
        "id": "ytbDIifiVG6y"
      }
    },
    {
      "cell_type": "code",
      "source": [
        "from IPython.display import SVG\n",
        "from keras.utils.vis_utils import model_to_dot\n",
        "\n",
        "SVG(model_to_dot(cbow, \n",
        "                 show_shapes=True, \n",
        "                 show_layer_names=False, \n",
        "                 rankdir='TB', \n",
        "                 dpi=65).create(prog='dot', format='svg'))"
      ],
      "metadata": {
        "colab": {
          "base_uri": "https://localhost:8080/",
          "height": 387
        },
        "id": "QqBYQLm1gTeK",
        "outputId": "09f5335a-30ed-4164-8fb5-b1fc0eb92053"
      },
      "execution_count": null,
      "outputs": [
        {
          "output_type": "execute_result",
          "data": {
            "text/plain": [
              "<IPython.core.display.SVG object>"
            ],
            "image/svg+xml": "<svg height=\"274pt\" viewBox=\"0.00 0.00 252.00 304.00\" width=\"227pt\" xmlns=\"http://www.w3.org/2000/svg\" xmlns:xlink=\"http://www.w3.org/1999/xlink\">\n<g class=\"graph\" id=\"graph0\" transform=\"scale(.9028 .9028) rotate(0) translate(4 300)\">\n<title>G</title>\n<polygon fill=\"#ffffff\" points=\"-4,4 -4,-300 248,-300 248,4 -4,4\" stroke=\"transparent\"/>\n<!-- 140121194734992 -->\n<g class=\"node\" id=\"node1\">\n<title>140121194734992</title>\n<polygon fill=\"none\" points=\"12.5,-249.5 12.5,-295.5 231.5,-295.5 231.5,-249.5 12.5,-249.5\" stroke=\"#000000\"/>\n<text fill=\"#000000\" font-family=\"Times,serif\" font-size=\"14.00\" text-anchor=\"middle\" x=\"52.5\" y=\"-268.8\">InputLayer</text>\n<polyline fill=\"none\" points=\"92.5,-249.5 92.5,-295.5 \" stroke=\"#000000\"/>\n<text fill=\"#000000\" font-family=\"Times,serif\" font-size=\"14.00\" text-anchor=\"middle\" x=\"121.5\" y=\"-280.3\">input:</text>\n<polyline fill=\"none\" points=\"92.5,-272.5 150.5,-272.5 \" stroke=\"#000000\"/>\n<text fill=\"#000000\" font-family=\"Times,serif\" font-size=\"14.00\" text-anchor=\"middle\" x=\"121.5\" y=\"-257.3\">output:</text>\n<polyline fill=\"none\" points=\"150.5,-249.5 150.5,-295.5 \" stroke=\"#000000\"/>\n<text fill=\"#000000\" font-family=\"Times,serif\" font-size=\"14.00\" text-anchor=\"middle\" x=\"191\" y=\"-280.3\">[(None, 4)]</text>\n<polyline fill=\"none\" points=\"150.5,-272.5 231.5,-272.5 \" stroke=\"#000000\"/>\n<text fill=\"#000000\" font-family=\"Times,serif\" font-size=\"14.00\" text-anchor=\"middle\" x=\"191\" y=\"-257.3\">[(None, 4)]</text>\n</g>\n<!-- 140121194736720 -->\n<g class=\"node\" id=\"node2\">\n<title>140121194736720</title>\n<polygon fill=\"none\" points=\"0,-166.5 0,-212.5 244,-212.5 244,-166.5 0,-166.5\" stroke=\"#000000\"/>\n<text fill=\"#000000\" font-family=\"Times,serif\" font-size=\"14.00\" text-anchor=\"middle\" x=\"42\" y=\"-185.8\">Embedding</text>\n<polyline fill=\"none\" points=\"84,-166.5 84,-212.5 \" stroke=\"#000000\"/>\n<text fill=\"#000000\" font-family=\"Times,serif\" font-size=\"14.00\" text-anchor=\"middle\" x=\"113\" y=\"-197.3\">input:</text>\n<polyline fill=\"none\" points=\"84,-189.5 142,-189.5 \" stroke=\"#000000\"/>\n<text fill=\"#000000\" font-family=\"Times,serif\" font-size=\"14.00\" text-anchor=\"middle\" x=\"113\" y=\"-174.3\">output:</text>\n<polyline fill=\"none\" points=\"142,-166.5 142,-212.5 \" stroke=\"#000000\"/>\n<text fill=\"#000000\" font-family=\"Times,serif\" font-size=\"14.00\" text-anchor=\"middle\" x=\"193\" y=\"-197.3\">(None, 4)</text>\n<polyline fill=\"none\" points=\"142,-189.5 244,-189.5 \" stroke=\"#000000\"/>\n<text fill=\"#000000\" font-family=\"Times,serif\" font-size=\"14.00\" text-anchor=\"middle\" x=\"193\" y=\"-174.3\">(None, 4, 100)</text>\n</g>\n<!-- 140121194734992&#45;&gt;140121194736720 -->\n<g class=\"edge\" id=\"edge1\">\n<title>140121194734992-&gt;140121194736720</title>\n<path d=\"M122,-249.3799C122,-241.1745 122,-231.7679 122,-222.8786\" fill=\"none\" stroke=\"#000000\"/>\n<polygon fill=\"#000000\" points=\"125.5001,-222.784 122,-212.784 118.5001,-222.784 125.5001,-222.784\" stroke=\"#000000\"/>\n</g>\n<!-- 140121265139408 -->\n<g class=\"node\" id=\"node3\">\n<title>140121265139408</title>\n<polygon fill=\"none\" points=\"10,-83.5 10,-129.5 234,-129.5 234,-83.5 10,-83.5\" stroke=\"#000000\"/>\n<text fill=\"#000000\" font-family=\"Times,serif\" font-size=\"14.00\" text-anchor=\"middle\" x=\"42\" y=\"-102.8\">Lambda</text>\n<polyline fill=\"none\" points=\"74,-83.5 74,-129.5 \" stroke=\"#000000\"/>\n<text fill=\"#000000\" font-family=\"Times,serif\" font-size=\"14.00\" text-anchor=\"middle\" x=\"103\" y=\"-114.3\">input:</text>\n<polyline fill=\"none\" points=\"74,-106.5 132,-106.5 \" stroke=\"#000000\"/>\n<text fill=\"#000000\" font-family=\"Times,serif\" font-size=\"14.00\" text-anchor=\"middle\" x=\"103\" y=\"-91.3\">output:</text>\n<polyline fill=\"none\" points=\"132,-83.5 132,-129.5 \" stroke=\"#000000\"/>\n<text fill=\"#000000\" font-family=\"Times,serif\" font-size=\"14.00\" text-anchor=\"middle\" x=\"183\" y=\"-114.3\">(None, 4, 100)</text>\n<polyline fill=\"none\" points=\"132,-106.5 234,-106.5 \" stroke=\"#000000\"/>\n<text fill=\"#000000\" font-family=\"Times,serif\" font-size=\"14.00\" text-anchor=\"middle\" x=\"183\" y=\"-91.3\">(None, 100)</text>\n</g>\n<!-- 140121194736720&#45;&gt;140121265139408 -->\n<g class=\"edge\" id=\"edge2\">\n<title>140121194736720-&gt;140121265139408</title>\n<path d=\"M122,-166.3799C122,-158.1745 122,-148.7679 122,-139.8786\" fill=\"none\" stroke=\"#000000\"/>\n<polygon fill=\"#000000\" points=\"125.5001,-139.784 122,-129.784 118.5001,-139.784 125.5001,-139.784\" stroke=\"#000000\"/>\n</g>\n<!-- 140121089661200 -->\n<g class=\"node\" id=\"node4\">\n<title>140121089661200</title>\n<polygon fill=\"none\" points=\"16,-.5 16,-46.5 228,-46.5 228,-.5 16,-.5\" stroke=\"#000000\"/>\n<text fill=\"#000000\" font-family=\"Times,serif\" font-size=\"14.00\" text-anchor=\"middle\" x=\"42\" y=\"-19.8\">Dense</text>\n<polyline fill=\"none\" points=\"68,-.5 68,-46.5 \" stroke=\"#000000\"/>\n<text fill=\"#000000\" font-family=\"Times,serif\" font-size=\"14.00\" text-anchor=\"middle\" x=\"97\" y=\"-31.3\">input:</text>\n<polyline fill=\"none\" points=\"68,-23.5 126,-23.5 \" stroke=\"#000000\"/>\n<text fill=\"#000000\" font-family=\"Times,serif\" font-size=\"14.00\" text-anchor=\"middle\" x=\"97\" y=\"-8.3\">output:</text>\n<polyline fill=\"none\" points=\"126,-.5 126,-46.5 \" stroke=\"#000000\"/>\n<text fill=\"#000000\" font-family=\"Times,serif\" font-size=\"14.00\" text-anchor=\"middle\" x=\"177\" y=\"-31.3\">(None, 100)</text>\n<polyline fill=\"none\" points=\"126,-23.5 228,-23.5 \" stroke=\"#000000\"/>\n<text fill=\"#000000\" font-family=\"Times,serif\" font-size=\"14.00\" text-anchor=\"middle\" x=\"177\" y=\"-8.3\">(None, 33581)</text>\n</g>\n<!-- 140121265139408&#45;&gt;140121089661200 -->\n<g class=\"edge\" id=\"edge3\">\n<title>140121265139408-&gt;140121089661200</title>\n<path d=\"M122,-83.3799C122,-75.1745 122,-65.7679 122,-56.8786\" fill=\"none\" stroke=\"#000000\"/>\n<polygon fill=\"#000000\" points=\"125.5001,-56.784 122,-46.784 118.5001,-56.784 125.5001,-56.784\" stroke=\"#000000\"/>\n</g>\n</g>\n</svg>"
          },
          "metadata": {},
          "execution_count": 24
        }
      ]
    },
    {
      "cell_type": "markdown",
      "source": [
        "### Обучение модели"
      ],
      "metadata": {
        "id": "zroSOhASX0bk"
      }
    },
    {
      "cell_type": "code",
      "source": [
        "for epoch in range(1, 3):\n",
        "    loss = 0.\n",
        "    i = 0\n",
        "    for x, y in generate_context_word_pairs(corpus=wids, window_size=window_size, vocab_size=vocab_size):\n",
        "        i += 1\n",
        "        # Выполняет обновление одного градиента на одном пакете данных\n",
        "        loss += cbow.train_on_batch(x, y)\n",
        "        if i % 50000 == 0:\n",
        "            print('Обработанные {} (контекст, слово) пары'.format(i))\n",
        "\n",
        "    print('Эпоха:', epoch, '\\tПотеря:', loss)\n",
        "    print()\n",
        "\n",
        "cbow.save('cbow_model')"
      ],
      "metadata": {
        "id": "XHmEW6WSgVlU",
        "colab": {
          "base_uri": "https://localhost:8080/"
        },
        "outputId": "cfc3c89d-d905-4b34-92ec-e1d96cffdea8"
      },
      "execution_count": null,
      "outputs": [
        {
          "output_type": "stream",
          "name": "stdout",
          "text": [
            "Обработанные 50000 (контекст, слово) пары\n",
            "Обработанные 100000 (контекст, слово) пары\n",
            "Обработанные 150000 (контекст, слово) пары\n",
            "Эпоха: 1 \tПотеря: 1968591.2934104921\n",
            "\n",
            "Обработанные 50000 (контекст, слово) пары\n",
            "Обработанные 100000 (контекст, слово) пары\n",
            "Обработанные 150000 (контекст, слово) пары\n",
            "Эпоха: 2 \tПотеря: 2610018.6992012667\n",
            "\n"
          ]
        }
      ]
    },
    {
      "cell_type": "markdown",
      "source": [
        "### Получение вложения слов"
      ],
      "metadata": {
        "id": "51DBq3s1YCT2"
      }
    },
    {
      "cell_type": "code",
      "source": [
        "# Выведем текущие веса слоя в виде массива\n",
        "weights = cbow.get_weights()[0]\n",
        "weights = weights[1:]\n",
        "\n",
        "# Форма массива\n",
        "print(weights.shape)\n",
        "\n",
        "pd.DataFrame(weights, index=list(id2word.values())[1:]).head()"
      ],
      "metadata": {
        "colab": {
          "base_uri": "https://localhost:8080/",
          "height": 317
        },
        "id": "mp9Av19Kg0Rx",
        "outputId": "a8ea21df-7849-489e-9724-ec2e7b0e3ddd"
      },
      "execution_count": null,
      "outputs": [
        {
          "output_type": "stream",
          "name": "stdout",
          "text": [
            "(33580, 100)\n"
          ]
        },
        {
          "output_type": "execute_result",
          "data": {
            "text/plain": [
              "              0         1         2         3         4         5         6   \\\n",
              "сказал  0.990152  0.184432  0.241939 -0.177543  0.590066 -0.072413 -0.563876   \n",
              "левин   0.399935  0.045563 -0.116099  0.064489  0.193756 -0.223457 -0.172362   \n",
              "я       0.264774 -0.113480 -0.306756 -0.050578 -0.132539 -0.318793 -0.351446   \n",
              "он      0.115210  0.151952 -0.039631 -0.226000  0.047860 -0.038817 -0.119592   \n",
              "и       0.143073 -0.107476 -0.115367 -0.226757  0.002305 -0.213755 -0.180644   \n",
              "\n",
              "              7         8         9   ...        90        91        92  \\\n",
              "сказал  0.126168 -0.136399 -0.256524  ... -1.070905 -0.252562 -0.077355   \n",
              "левин  -0.034815  0.448570 -0.051392  ... -0.008398 -0.169628 -0.334526   \n",
              "я      -0.365510  0.028509  0.075073  ...  0.330151 -0.094996  0.087466   \n",
              "он     -0.144707  0.071382 -0.199208  ...  0.147206 -0.047145  0.087838   \n",
              "и      -0.206927  0.122819  0.118938  ...  0.136066 -0.335896  0.144660   \n",
              "\n",
              "              93        94        95        96        97        98        99  \n",
              "сказал -0.904248 -0.225602 -0.918204 -0.336243  0.297475  0.623323 -0.237133  \n",
              "левин  -0.029819 -0.325852 -0.106908  0.172825  0.393168  0.168063  0.005490  \n",
              "я       0.186258 -0.387014 -0.533224  0.205223  0.399171 -0.351990 -0.100584  \n",
              "он      0.024730  0.102143 -0.182528  0.212086  0.337269 -0.299803  0.186486  \n",
              "и      -0.120741 -0.010096 -0.317939  0.118021  0.277143 -0.098968 -0.029536  \n",
              "\n",
              "[5 rows x 100 columns]"
            ],
            "text/html": [
              "\n",
              "  <div id=\"df-82b944c6-c1c9-4d61-b9ad-7b97e1d5a407\">\n",
              "    <div class=\"colab-df-container\">\n",
              "      <div>\n",
              "<style scoped>\n",
              "    .dataframe tbody tr th:only-of-type {\n",
              "        vertical-align: middle;\n",
              "    }\n",
              "\n",
              "    .dataframe tbody tr th {\n",
              "        vertical-align: top;\n",
              "    }\n",
              "\n",
              "    .dataframe thead th {\n",
              "        text-align: right;\n",
              "    }\n",
              "</style>\n",
              "<table border=\"1\" class=\"dataframe\">\n",
              "  <thead>\n",
              "    <tr style=\"text-align: right;\">\n",
              "      <th></th>\n",
              "      <th>0</th>\n",
              "      <th>1</th>\n",
              "      <th>2</th>\n",
              "      <th>3</th>\n",
              "      <th>4</th>\n",
              "      <th>5</th>\n",
              "      <th>6</th>\n",
              "      <th>7</th>\n",
              "      <th>8</th>\n",
              "      <th>9</th>\n",
              "      <th>...</th>\n",
              "      <th>90</th>\n",
              "      <th>91</th>\n",
              "      <th>92</th>\n",
              "      <th>93</th>\n",
              "      <th>94</th>\n",
              "      <th>95</th>\n",
              "      <th>96</th>\n",
              "      <th>97</th>\n",
              "      <th>98</th>\n",
              "      <th>99</th>\n",
              "    </tr>\n",
              "  </thead>\n",
              "  <tbody>\n",
              "    <tr>\n",
              "      <th>сказал</th>\n",
              "      <td>0.990152</td>\n",
              "      <td>0.184432</td>\n",
              "      <td>0.241939</td>\n",
              "      <td>-0.177543</td>\n",
              "      <td>0.590066</td>\n",
              "      <td>-0.072413</td>\n",
              "      <td>-0.563876</td>\n",
              "      <td>0.126168</td>\n",
              "      <td>-0.136399</td>\n",
              "      <td>-0.256524</td>\n",
              "      <td>...</td>\n",
              "      <td>-1.070905</td>\n",
              "      <td>-0.252562</td>\n",
              "      <td>-0.077355</td>\n",
              "      <td>-0.904248</td>\n",
              "      <td>-0.225602</td>\n",
              "      <td>-0.918204</td>\n",
              "      <td>-0.336243</td>\n",
              "      <td>0.297475</td>\n",
              "      <td>0.623323</td>\n",
              "      <td>-0.237133</td>\n",
              "    </tr>\n",
              "    <tr>\n",
              "      <th>левин</th>\n",
              "      <td>0.399935</td>\n",
              "      <td>0.045563</td>\n",
              "      <td>-0.116099</td>\n",
              "      <td>0.064489</td>\n",
              "      <td>0.193756</td>\n",
              "      <td>-0.223457</td>\n",
              "      <td>-0.172362</td>\n",
              "      <td>-0.034815</td>\n",
              "      <td>0.448570</td>\n",
              "      <td>-0.051392</td>\n",
              "      <td>...</td>\n",
              "      <td>-0.008398</td>\n",
              "      <td>-0.169628</td>\n",
              "      <td>-0.334526</td>\n",
              "      <td>-0.029819</td>\n",
              "      <td>-0.325852</td>\n",
              "      <td>-0.106908</td>\n",
              "      <td>0.172825</td>\n",
              "      <td>0.393168</td>\n",
              "      <td>0.168063</td>\n",
              "      <td>0.005490</td>\n",
              "    </tr>\n",
              "    <tr>\n",
              "      <th>я</th>\n",
              "      <td>0.264774</td>\n",
              "      <td>-0.113480</td>\n",
              "      <td>-0.306756</td>\n",
              "      <td>-0.050578</td>\n",
              "      <td>-0.132539</td>\n",
              "      <td>-0.318793</td>\n",
              "      <td>-0.351446</td>\n",
              "      <td>-0.365510</td>\n",
              "      <td>0.028509</td>\n",
              "      <td>0.075073</td>\n",
              "      <td>...</td>\n",
              "      <td>0.330151</td>\n",
              "      <td>-0.094996</td>\n",
              "      <td>0.087466</td>\n",
              "      <td>0.186258</td>\n",
              "      <td>-0.387014</td>\n",
              "      <td>-0.533224</td>\n",
              "      <td>0.205223</td>\n",
              "      <td>0.399171</td>\n",
              "      <td>-0.351990</td>\n",
              "      <td>-0.100584</td>\n",
              "    </tr>\n",
              "    <tr>\n",
              "      <th>он</th>\n",
              "      <td>0.115210</td>\n",
              "      <td>0.151952</td>\n",
              "      <td>-0.039631</td>\n",
              "      <td>-0.226000</td>\n",
              "      <td>0.047860</td>\n",
              "      <td>-0.038817</td>\n",
              "      <td>-0.119592</td>\n",
              "      <td>-0.144707</td>\n",
              "      <td>0.071382</td>\n",
              "      <td>-0.199208</td>\n",
              "      <td>...</td>\n",
              "      <td>0.147206</td>\n",
              "      <td>-0.047145</td>\n",
              "      <td>0.087838</td>\n",
              "      <td>0.024730</td>\n",
              "      <td>0.102143</td>\n",
              "      <td>-0.182528</td>\n",
              "      <td>0.212086</td>\n",
              "      <td>0.337269</td>\n",
              "      <td>-0.299803</td>\n",
              "      <td>0.186486</td>\n",
              "    </tr>\n",
              "    <tr>\n",
              "      <th>и</th>\n",
              "      <td>0.143073</td>\n",
              "      <td>-0.107476</td>\n",
              "      <td>-0.115367</td>\n",
              "      <td>-0.226757</td>\n",
              "      <td>0.002305</td>\n",
              "      <td>-0.213755</td>\n",
              "      <td>-0.180644</td>\n",
              "      <td>-0.206927</td>\n",
              "      <td>0.122819</td>\n",
              "      <td>0.118938</td>\n",
              "      <td>...</td>\n",
              "      <td>0.136066</td>\n",
              "      <td>-0.335896</td>\n",
              "      <td>0.144660</td>\n",
              "      <td>-0.120741</td>\n",
              "      <td>-0.010096</td>\n",
              "      <td>-0.317939</td>\n",
              "      <td>0.118021</td>\n",
              "      <td>0.277143</td>\n",
              "      <td>-0.098968</td>\n",
              "      <td>-0.029536</td>\n",
              "    </tr>\n",
              "  </tbody>\n",
              "</table>\n",
              "<p>5 rows × 100 columns</p>\n",
              "</div>\n",
              "      <button class=\"colab-df-convert\" onclick=\"convertToInteractive('df-82b944c6-c1c9-4d61-b9ad-7b97e1d5a407')\"\n",
              "              title=\"Convert this dataframe to an interactive table.\"\n",
              "              style=\"display:none;\">\n",
              "        \n",
              "  <svg xmlns=\"http://www.w3.org/2000/svg\" height=\"24px\"viewBox=\"0 0 24 24\"\n",
              "       width=\"24px\">\n",
              "    <path d=\"M0 0h24v24H0V0z\" fill=\"none\"/>\n",
              "    <path d=\"M18.56 5.44l.94 2.06.94-2.06 2.06-.94-2.06-.94-.94-2.06-.94 2.06-2.06.94zm-11 1L8.5 8.5l.94-2.06 2.06-.94-2.06-.94L8.5 2.5l-.94 2.06-2.06.94zm10 10l.94 2.06.94-2.06 2.06-.94-2.06-.94-.94-2.06-.94 2.06-2.06.94z\"/><path d=\"M17.41 7.96l-1.37-1.37c-.4-.4-.92-.59-1.43-.59-.52 0-1.04.2-1.43.59L10.3 9.45l-7.72 7.72c-.78.78-.78 2.05 0 2.83L4 21.41c.39.39.9.59 1.41.59.51 0 1.02-.2 1.41-.59l7.78-7.78 2.81-2.81c.8-.78.8-2.07 0-2.86zM5.41 20L4 18.59l7.72-7.72 1.47 1.35L5.41 20z\"/>\n",
              "  </svg>\n",
              "      </button>\n",
              "      \n",
              "  <style>\n",
              "    .colab-df-container {\n",
              "      display:flex;\n",
              "      flex-wrap:wrap;\n",
              "      gap: 12px;\n",
              "    }\n",
              "\n",
              "    .colab-df-convert {\n",
              "      background-color: #E8F0FE;\n",
              "      border: none;\n",
              "      border-radius: 50%;\n",
              "      cursor: pointer;\n",
              "      display: none;\n",
              "      fill: #1967D2;\n",
              "      height: 32px;\n",
              "      padding: 0 0 0 0;\n",
              "      width: 32px;\n",
              "    }\n",
              "\n",
              "    .colab-df-convert:hover {\n",
              "      background-color: #E2EBFA;\n",
              "      box-shadow: 0px 1px 2px rgba(60, 64, 67, 0.3), 0px 1px 3px 1px rgba(60, 64, 67, 0.15);\n",
              "      fill: #174EA6;\n",
              "    }\n",
              "\n",
              "    [theme=dark] .colab-df-convert {\n",
              "      background-color: #3B4455;\n",
              "      fill: #D2E3FC;\n",
              "    }\n",
              "\n",
              "    [theme=dark] .colab-df-convert:hover {\n",
              "      background-color: #434B5C;\n",
              "      box-shadow: 0px 1px 3px 1px rgba(0, 0, 0, 0.15);\n",
              "      filter: drop-shadow(0px 1px 2px rgba(0, 0, 0, 0.3));\n",
              "      fill: #FFFFFF;\n",
              "    }\n",
              "  </style>\n",
              "\n",
              "      <script>\n",
              "        const buttonEl =\n",
              "          document.querySelector('#df-82b944c6-c1c9-4d61-b9ad-7b97e1d5a407 button.colab-df-convert');\n",
              "        buttonEl.style.display =\n",
              "          google.colab.kernel.accessAllowed ? 'block' : 'none';\n",
              "\n",
              "        async function convertToInteractive(key) {\n",
              "          const element = document.querySelector('#df-82b944c6-c1c9-4d61-b9ad-7b97e1d5a407');\n",
              "          const dataTable =\n",
              "            await google.colab.kernel.invokeFunction('convertToInteractive',\n",
              "                                                     [key], {});\n",
              "          if (!dataTable) return;\n",
              "\n",
              "          const docLinkHtml = 'Like what you see? Visit the ' +\n",
              "            '<a target=\"_blank\" href=https://colab.research.google.com/notebooks/data_table.ipynb>data table notebook</a>'\n",
              "            + ' to learn more about interactive tables.';\n",
              "          element.innerHTML = '';\n",
              "          dataTable['output_type'] = 'display_data';\n",
              "          await google.colab.output.renderOutput(dataTable, element);\n",
              "          const docLink = document.createElement('div');\n",
              "          docLink.innerHTML = docLinkHtml;\n",
              "          element.appendChild(docLink);\n",
              "        }\n",
              "      </script>\n",
              "    </div>\n",
              "  </div>\n",
              "  "
            ]
          },
          "metadata": {},
          "execution_count": 26
        }
      ]
    },
    {
      "cell_type": "markdown",
      "source": [
        "#### Строим матрицу попарных расстояний среди всех слов в нашем словаре"
      ],
      "metadata": {
        "id": "-yxv6G1HnTun"
      }
    },
    {
      "cell_type": "code",
      "source": [
        "from sklearn.metrics.pairwise import euclidean_distances\n",
        "\n",
        "# Вычисление попарной матрицы расстояний\n",
        "distance_matrix = euclidean_distances(weights)\n",
        "print(distance_matrix.shape)\n",
        "\n",
        "# Вывод контекстно-подобных слов\n",
        "similar_words = {search_term: [id2word[idx] for idx in distance_matrix[word2id[search_term]-1].argsort()[1:6]+1] \n",
        "                   for search_term in ['анна', 'семья', 'жена', 'любовь', 'муж']}\n",
        "\n",
        "similar_words"
      ],
      "metadata": {
        "colab": {
          "base_uri": "https://localhost:8080/"
        },
        "id": "2YMjmN1gg5mm",
        "outputId": "0c5a9f07-650e-46fd-b551-71a3deab892b"
      },
      "execution_count": null,
      "outputs": [
        {
          "output_type": "stream",
          "name": "stdout",
          "text": [
            "(33580, 33580)\n"
          ]
        },
        {
          "output_type": "execute_result",
          "data": {
            "text/plain": [
              "{'анна': ['долли', 'мужа', 'дома', 'вронского', 'нему'],\n",
              " 'семья': ['каблуками', 'политической', 'недостатков', 'стоявших', 'убить'],\n",
              " 'жена': ['этими', 'большой', 'ожидая', 'сторон', 'самыми'],\n",
              " 'любовь': ['любви', 'выражением', 'вместо', 'руках', 'сестры'],\n",
              " 'муж': ['таким', 'границей', 'второй', 'права', 'неприятно']}"
            ]
          },
          "metadata": {},
          "execution_count": 27
        }
      ]
    },
    {
      "cell_type": "markdown",
      "source": [
        "#### Визуализируем вложения слов, используя t-SNE "
      ],
      "metadata": {
        "id": "aJtjL_JSnlqK"
      }
    },
    {
      "cell_type": "code",
      "source": [
        "from sklearn.manifold import TSNE\n",
        "\n",
        "words = sum([[k] + v for k, v in similar_words.items()], [])\n",
        "words_ids = [word2id[w] for w in words]\n",
        "word_vectors = np.array([weights[idx] for idx in words_ids])\n",
        "print('Общее количество групп слов:', len(words))\n",
        "\n",
        "# Стохастическое вложение соседей с t-распределением\n",
        "tsne = TSNE(n_components=2, random_state=0, n_iter=10000, perplexity=3)\n",
        "# Определим способ отображения чисел с плавающей запятой\n",
        "np.set_printoptions(suppress=True)\n",
        "# Стандартизируем функции, удалив среднее значение и масштабируя до единичной дисперсии\n",
        "T = tsne.fit_transform(word_vectors)\n",
        "\n",
        "plt.figure(figsize=(14, 8))\n",
        "plt.scatter(T[:, 0], T[:, 1], c='steelblue', edgecolors='k')\n",
        "for label, x, y in zip(words, T[:, 0], T[:, 1]):\n",
        "    plt.annotate(label, xy=(x+1, y+1), xytext=(0, 0), textcoords='offset points')"
      ],
      "metadata": {
        "colab": {
          "base_uri": "https://localhost:8080/",
          "height": 570
        },
        "id": "Ah-s9zsWhHni",
        "outputId": "ef161171-c76b-4744-d183-d4c194dfe88b"
      },
      "execution_count": null,
      "outputs": [
        {
          "output_type": "stream",
          "name": "stdout",
          "text": [
            "Общее количество групп слов: 30\n"
          ]
        },
        {
          "output_type": "stream",
          "name": "stderr",
          "text": [
            "/usr/local/lib/python3.7/dist-packages/sklearn/manifold/_t_sne.py:783: FutureWarning: The default initialization in TSNE will change from 'random' to 'pca' in 1.2.\n",
            "  FutureWarning,\n",
            "/usr/local/lib/python3.7/dist-packages/sklearn/manifold/_t_sne.py:793: FutureWarning: The default learning rate in TSNE will change from 200.0 to 'auto' in 1.2.\n",
            "  FutureWarning,\n"
          ]
        },
        {
          "output_type": "display_data",
          "data": {
            "text/plain": [
              "<Figure size 1008x576 with 1 Axes>"
            ],
            "image/png": "[encoded data removed]"
          },
          "metadata": {
            "needs_background": "light"
          }
        }
      ]
    },
    {
      "cell_type": "markdown",
      "source": [
        "## Word2Vec с Gensim\n",
        "В нашем рабочем процессе мы будем токенизировать наш нормализованный корпус."
      ],
      "metadata": {
        "id": "l3nOKLZNoLm7"
      }
    },
    {
      "cell_type": "code",
      "source": [
        "from gensim.models import word2vec\n",
        "\n",
        "# Токенизация предложений в корпусе\n",
        "wpt = nltk.WordPunctTokenizer()\n",
        "tokenized_corpus = [wpt.tokenize(document) for document in norm_words_text]\n",
        "\n",
        "# Установка значений для различных параметров\n",
        "\n",
        "feature_size = 100   # Размерность вектора слова  \n",
        "window_context = 30  # Размер контекстного окна                                                                                    \n",
        "min_word_count = 1   # Минимальное количество слов                        \n",
        "sample = 1e-3        # Настройка понижения частоты для частых слов\n",
        "number_epoch = 50    # Количество эпох (перебор корпуса)\n",
        "\n",
        "w2v_model = word2vec.Word2Vec(tokenized_corpus, \n",
        "                              size=feature_size, \n",
        "                              window=window_context, \n",
        "                              min_count=min_word_count,\n",
        "                              sample=sample, \n",
        "                              iter=number_epoch, \n",
        "                              cb = 0)\n",
        "\n",
        "# Вывод похожих слова на основе модели gensim\n",
        "similar_words = {search_term: [item[0] for item in w2v_model.wv.most_similar([search_term], topn=5)]\n",
        "                  for search_term in ['анна', 'семья', 'жена', 'любовь', 'муж']}\n",
        "similar_words"
      ],
      "metadata": {
        "id": "64MuXWpCtvBS",
        "colab": {
          "base_uri": "https://localhost:8080/"
        },
        "outputId": "898bcaf3-4f5e-4237-d854-ab2f34593f66"
      },
      "execution_count": null,
      "outputs": [
        {
          "output_type": "execute_result",
          "data": {
            "text/plain": [
              "{'анна': ['долли', 'она', 'анну', 'щербацкого', 'мужа'],\n",
              " 'семья': ['воспитанные', 'вырастут', 'наклонностями', 'грубыми', 'зверскими'],\n",
              " 'жена': ['избегала', 'бетси', 'настаивала', 'косо', 'царское'],\n",
              " 'любовь': ['страсть', 'любви', 'связывавшая', 'любила', 'обманывать'],\n",
              " 'муж': ['определится', 'считает', 'комическою', 'поедет', 'обманутый']}"
            ]
          },
          "metadata": {},
          "execution_count": 32
        }
      ]
    },
    {
      "cell_type": "markdown",
      "source": [
        "### Визуализируем группы вложений слов, используя t-SNE"
      ],
      "metadata": {
        "id": "GpKDX1xkVcjk"
      }
    },
    {
      "cell_type": "code",
      "source": [
        "from sklearn.manifold import TSNE\n",
        "\n",
        "words = sum([[k] + v for k, v in similar_words.items()], [])\n",
        "print('Общее количество групп слов:', len(words))\n",
        "wvs = w2v_model.wv[words]\n",
        "\n",
        "# Стохастическое вложение соседей с t-распределением\n",
        "tsne = TSNE(n_components=2, random_state=0, n_iter=10000, perplexity=2)\n",
        "# Определим способ отображения чисел с плавающей запятой\n",
        "np.set_printoptions(suppress=True)\n",
        "# Стандартизируем функции, удалив среднее значение и масштабируя до единичной дисперсии\n",
        "T = tsne.fit_transform(wvs)\n",
        "\n",
        "plt.figure(figsize=(14, 8))\n",
        "plt.scatter(T[:, 0], T[:, 1], c='orange', edgecolors='r')\n",
        "for label, x, y in zip(words, T[:, 0], T[:, 1]):\n",
        "    plt.annotate(label, xy=(x+1, y+1), xytext=(0, 0), textcoords='offset points')"
      ],
      "metadata": {
        "id": "bPy_l5Yrt7cJ",
        "colab": {
          "base_uri": "https://localhost:8080/",
          "height": 570
        },
        "outputId": "00479989-1adf-46af-ec86-c5237f42440c"
      },
      "execution_count": null,
      "outputs": [
        {
          "output_type": "stream",
          "name": "stdout",
          "text": [
            "Общее количество групп слов: 30\n"
          ]
        },
        {
          "output_type": "stream",
          "name": "stderr",
          "text": [
            "/usr/local/lib/python3.7/dist-packages/sklearn/manifold/_t_sne.py:783: FutureWarning: The default initialization in TSNE will change from 'random' to 'pca' in 1.2.\n",
            "  FutureWarning,\n",
            "/usr/local/lib/python3.7/dist-packages/sklearn/manifold/_t_sne.py:793: FutureWarning: The default learning rate in TSNE will change from 200.0 to 'auto' in 1.2.\n",
            "  FutureWarning,\n"
          ]
        },
        {
          "output_type": "display_data",
          "data": {
            "text/plain": [
              "<Figure size 1008x576 with 1 Axes>"
            ],
            "image/png": "[encoded data removed]"
          },
          "metadata": {
            "needs_background": "light"
          }
        }
      ]
    },
    {
      "cell_type": "markdown",
      "source": [
        "## Применение функций Word2Vec для задач обработки естественного языка: автореферирование"
      ],
      "metadata": {
        "id": "JX7_vjhsoyBv"
      }
    },
    {
      "cell_type": "markdown",
      "source": [
        "### Инициализация исходного текста"
      ],
      "metadata": {
        "id": "r0TlSj4YpWFe"
      }
    },
    {
      "cell_type": "code",
      "source": [
        "with open(\"source-text.txt\", \"r\", encoding=\"utf-8\") as file:\n",
        "  text = file.read()\n",
        "\n",
        "text = sent_tokenize(text, language='russian')\n",
        "corpus = np.array(text)"
      ],
      "metadata": {
        "id": "S4UbiXZx_qLH"
      },
      "execution_count": null,
      "outputs": []
    },
    {
      "cell_type": "markdown",
      "source": [
        "###  Обработка исходного текста"
      ],
      "metadata": {
        "id": "9x__IiUPUYGG"
      }
    },
    {
      "cell_type": "code",
      "source": [
        "wpt = nltk.WordPunctTokenizer()\n",
        "stop_words = nltk.corpus.stopwords.words('russian')\n",
        "\n",
        "def normalize_document(doc):\n",
        "    doc = re.sub(r'[^а-яА-Я]', ' ', doc)\n",
        "    doc = doc.lower()\n",
        "    doc = doc.strip()\n",
        "    tokens = wpt.tokenize(doc)\n",
        "    filtered_tokens = [token for token in tokens if token not in stop_words]\n",
        "    doc = ' '.join(filtered_tokens)\n",
        "    return doc\n",
        "\n",
        "# Определим векторизованную функцию\n",
        "normalize_corpus = np.vectorize(normalize_document)"
      ],
      "metadata": {
        "id": "zog2d4tIBgjN"
      },
      "execution_count": null,
      "outputs": []
    },
    {
      "cell_type": "markdown",
      "source": [
        "### Вывод кортежа массивов"
      ],
      "metadata": {
        "id": "7Zt8pvw_jYuU"
      }
    },
    {
      "cell_type": "code",
      "source": [
        "norm_corpus = normalize_corpus(corpus) \n",
        "norm_corpus"
      ],
      "metadata": {
        "colab": {
          "base_uri": "https://localhost:8080/"
        },
        "id": "eWTY1k2YBXBv",
        "outputId": "52dfdbb6-e8ff-43a8-e558-bd5114a93ae0"
      },
      "execution_count": null,
      "outputs": [
        {
          "output_type": "execute_result",
          "data": {
            "text/plain": [
              "array(['ясны циркуляры газетные статьи которых запрещалось',\n",
              "       'циркуляре запрещалось ученикам выходить улицу девяти часов вечера статье запрещалась плотская любовь это ясно определенно запрещено баста',\n",
              "       'разрешении позволении скрывался элемент сомнительный недосказанное смутное',\n",
              "       'городе разрешали драматический кружок читальню чайную покачивал головой говорил тихо оно вс это прекрасно вышло',\n",
              "       'всякого рода нарушения уклонения отступления правил приводили уныние хотя казалось какое дело',\n",
              "       'товарищей опаздывал молебен доходили слухи проказе гимназистов видели классную даму поздно вечером офицером очень волновался вс говорил вышло',\n",
              "       'педагогических советах просто угнетал своею осторожностью мнительностью своими чисто футлярными соображениями насчет де мужской женской гимназиях молодежь ведет дурно очень шумит классах ах дошло начальства ах вышло б второго класса исключить петрова четвертого егорова очень',\n",
              "       'своими вздохами нытьем своими темными очками бледном маленьком лице знаете маленьком лице хорька давил уступали сбавляли петрову егорову балл поведению сажали арест конце концов исключали петрова егорова',\n",
              "       'учителя боялись', 'директор боялся',\n",
              "       'подите наши учителя народ вс мыслящий глубоко порядочный воспитанный тургеневе щедрине однако человечек ходивший калошах зонтиком держал руках гимназию целых пятнадцать лет',\n",
              "       'гимназию', 'весь город',\n",
              "       'наши дамы субботам домашних спектаклей устраивали боялись узнал духовенство стеснялось нем кушать скоромное играть карты',\n",
              "       'влиянием таких людей беликов последние десять пятнадцать лет нашем городе стали бояться',\n",
              "       'боятся громко говорить посылать письма знакомиться читать книги боятся помогать бедным учить грамоте'],\n",
              "      dtype='<U275')"
            ]
          },
          "metadata": {},
          "execution_count": 7
        }
      ]
    },
    {
      "cell_type": "markdown",
      "source": [
        "### Подключение обученной модели"
      ],
      "metadata": {
        "id": "Qwn_-eOVcBK2"
      }
    },
    {
      "cell_type": "code",
      "source": [
        "from gensim.models import Word2Vec\n",
        "wpt = nltk.WordPunctTokenizer()\n",
        "tokenized_corpus = [wpt.tokenize(document) for document in norm_corpus]\n",
        "\n",
        "# Установка значений для различных параметров\n",
        "feature_size = 10    # Размерность вектора слова \n",
        "window_context = 10  # Размер контекстного окна                                                                                    \n",
        "min_word_count = 1   # Минимальное количество слов                        \n",
        "sample = 1e-3        # Настройка понижения частоты для частых слов\n",
        "\n",
        "w2v_model = Word2Vec(tokenized_corpus, \n",
        "                     size=feature_size, \n",
        "                     window=window_context, \n",
        "                     min_count = min_word_count,\n",
        "                     sample=sample, \n",
        "                     iter=100, \n",
        "                     sg=0)"
      ],
      "metadata": {
        "colab": {
          "base_uri": "https://localhost:8080/"
        },
        "id": "8O-UvOWBA5J6",
        "outputId": "0bcf4fa9-2266-4116-ecf3-4310d03f38fe"
      },
      "execution_count": null,
      "outputs": [
        {
          "output_type": "stream",
          "name": "stderr",
          "text": [
            "WARNING:gensim.models.base_any2vec:consider setting layer size to a multiple of 4 for greater performance\n"
          ]
        }
      ]
    },
    {
      "cell_type": "code",
      "source": [
        "# from keras.models import load_model\n",
        "# loaded_model = load_model('cbow_model')"
      ],
      "metadata": {
        "id": "ezh70VG6zRIE"
      },
      "execution_count": null,
      "outputs": []
    },
    {
      "cell_type": "markdown",
      "source": [
        "### Визуализация вложений"
      ],
      "metadata": {
        "id": "CUNUIUDWf3rD"
      }
    },
    {
      "cell_type": "code",
      "source": [
        "from sklearn.manifold import TSNE\n",
        "words = w2v_model.wv.index2word\n",
        "wvs = w2v_model.wv[words]\n",
        "\n",
        "tsne = TSNE(n_components=2, random_state=0, n_iter=5000, perplexity=2)\n",
        "np.set_printoptions(suppress=True)\n",
        "T = tsne.fit_transform(wvs)\n",
        "labels = words\n",
        "\n",
        "plt.figure(figsize=(22, 10))\n",
        "plt.scatter(T[:, 0], T[:, 1], c='orange', edgecolors='r')\n",
        "for label, x, y in zip(labels, T[:, 0], T[:, 1]):\n",
        "    plt.annotate(label, xy=(x+1, y+1), xytext=(0, 0), textcoords='offset points')"
      ],
      "metadata": {
        "colab": {
          "base_uri": "https://localhost:8080/",
          "height": 661
        },
        "id": "_pXYzgmofxjr",
        "outputId": "95d09134-27e5-4799-9266-9787fa788c87"
      },
      "execution_count": null,
      "outputs": [
        {
          "output_type": "stream",
          "name": "stderr",
          "text": [
            "/usr/local/lib/python3.7/dist-packages/sklearn/manifold/_t_sne.py:783: FutureWarning: The default initialization in TSNE will change from 'random' to 'pca' in 1.2.\n",
            "  FutureWarning,\n",
            "/usr/local/lib/python3.7/dist-packages/sklearn/manifold/_t_sne.py:793: FutureWarning: The default learning rate in TSNE will change from 200.0 to 'auto' in 1.2.\n",
            "  FutureWarning,\n"
          ]
        },
        {
          "output_type": "display_data",
          "data": {
            "text/plain": [
              "<Figure size 1584x720 with 1 Axes>"
            ],
            "image/png": "[encoded data removed]"
          },
          "metadata": {
            "needs_background": "light"
          }
        }
      ]
    },
    {
      "cell_type": "markdown",
      "source": [
        "### Векторизация предложений"
      ],
      "metadata": {
        "id": "8s_87qZ2h0uK"
      }
    },
    {
      "cell_type": "code",
      "source": [
        "# Функция векторизатора слов\n",
        "def average_word_vectors(words, model, vocabulary, num_features):\n",
        "    feature_vector = np.zeros((num_features,),dtype=\"float64\")\n",
        "    nwords = 0.\n",
        "    \n",
        "    for word in words:\n",
        "        if word in vocabulary: \n",
        "            nwords = nwords + 1.\n",
        "            feature_vector = np.add(feature_vector, model[word])\n",
        "    if nwords:\n",
        "        feature_vector = np.divide(feature_vector, nwords)\n",
        "        \n",
        "    return feature_vector\n",
        "    \n",
        "# Функция векторизатора предложений\n",
        "def averaged_word_vectorizer(corpus, model, num_features):\n",
        "    vocabulary = set(model.wv.index2word)\n",
        "    features = [average_word_vectors(tokenized_sentence, model, vocabulary, num_features)\n",
        "                    for tokenized_sentence in corpus]\n",
        "    return np.array(features)\n",
        "\n",
        "# Получить вложения для каждого предложения\n",
        "w2v_feature_array = averaged_word_vectorizer(corpus=tokenized_corpus, \n",
        "                                             model=w2v_model,\n",
        "                                             num_features=feature_size)\n",
        "pd.DataFrame(w2v_feature_array)"
      ],
      "metadata": {
        "colab": {
          "base_uri": "https://localhost:8080/",
          "height": 524
        },
        "id": "p48KFPVPWlJF",
        "outputId": "b21a05ba-93e8-489f-cb6f-e861b313317a"
      },
      "execution_count": null,
      "outputs": [
        {
          "output_type": "stream",
          "name": "stderr",
          "text": [
            "/usr/local/lib/python3.7/dist-packages/ipykernel_launcher.py:9: DeprecationWarning: Call to deprecated `__getitem__` (Method will be removed in 4.0.0, use self.wv.__getitem__() instead).\n",
            "  if __name__ == '__main__':\n"
          ]
        },
        {
          "output_type": "execute_result",
          "data": {
            "text/plain": [
              "           0         1         2         3         4         5         6  \\\n",
              "0  -0.007612  0.006995  0.003707  0.020907  0.018687  0.074099 -0.050330   \n",
              "1   0.009422 -0.044743  0.038006  0.036838  0.031048  0.165389 -0.088645   \n",
              "2   0.036836 -0.050470  0.008024  0.000983  0.012235  0.067220 -0.023105   \n",
              "3   0.017962 -0.057404  0.017734  0.030649  0.037456  0.135311 -0.077704   \n",
              "4   0.007377 -0.041667  0.005069  0.020856  0.039525  0.140332 -0.041391   \n",
              "5   0.007358 -0.067379  0.011249  0.022603  0.054186  0.141469 -0.080002   \n",
              "6   0.016796 -0.076907  0.025385  0.038385  0.063836  0.198467 -0.087607   \n",
              "7  -0.008779 -0.068871  0.042624  0.034619  0.044725  0.188553 -0.079154   \n",
              "8  -0.001164  0.012097 -0.000755  0.026011  0.048748  0.092135 -0.055251   \n",
              "9   0.001806  0.007894  0.029498  0.003739 -0.044711 -0.017858  0.036124   \n",
              "10  0.030170 -0.078878  0.025048  0.034569  0.054241  0.161903 -0.080836   \n",
              "11  0.056515 -0.079112 -0.023278 -0.004658  0.015863  0.104839 -0.071278   \n",
              "12 -0.006220  0.000675  0.024528  0.004043  0.005630 -0.028351  0.014858   \n",
              "13  0.014687 -0.015685  0.022245  0.013315  0.054250  0.118783 -0.034384   \n",
              "14  0.024836 -0.050826  0.016497  0.039452  0.030189  0.126913 -0.071113   \n",
              "15  0.008713 -0.018280  0.020792  0.036390  0.016437  0.130432 -0.076168   \n",
              "\n",
              "           7         8         9  \n",
              "0  -0.109492 -0.064250 -0.036440  \n",
              "1  -0.172205 -0.133003 -0.066932  \n",
              "2  -0.105013 -0.060052 -0.028037  \n",
              "3  -0.185315 -0.108242 -0.050228  \n",
              "4  -0.136314 -0.092909 -0.067693  \n",
              "5  -0.209486 -0.122791 -0.070239  \n",
              "6  -0.244783 -0.159251 -0.092914  \n",
              "7  -0.226029 -0.138970 -0.074883  \n",
              "8  -0.128523 -0.040621 -0.088216  \n",
              "9  -0.035977 -0.012647 -0.020284  \n",
              "10 -0.210168 -0.129098 -0.074259  \n",
              "11 -0.111171 -0.125813 -0.033019  \n",
              "12 -0.028214 -0.012582 -0.029420  \n",
              "13 -0.159850 -0.082018 -0.070692  \n",
              "14 -0.139787 -0.092645 -0.049780  \n",
              "15 -0.147797 -0.066312 -0.048796  "
            ],
            "text/html": [
              "\n",
              "  <div id=\"df-a9aae338-b67b-4966-a3f7-35321dcdb8be\">\n",
              "    <div class=\"colab-df-container\">\n",
              "      <div>\n",
              "<style scoped>\n",
              "    .dataframe tbody tr th:only-of-type {\n",
              "        vertical-align: middle;\n",
              "    }\n",
              "\n",
              "    .dataframe tbody tr th {\n",
              "        vertical-align: top;\n",
              "    }\n",
              "\n",
              "    .dataframe thead th {\n",
              "        text-align: right;\n",
              "    }\n",
              "</style>\n",
              "<table border=\"1\" class=\"dataframe\">\n",
              "  <thead>\n",
              "    <tr style=\"text-align: right;\">\n",
              "      <th></th>\n",
              "      <th>0</th>\n",
              "      <th>1</th>\n",
              "      <th>2</th>\n",
              "      <th>3</th>\n",
              "      <th>4</th>\n",
              "      <th>5</th>\n",
              "      <th>6</th>\n",
              "      <th>7</th>\n",
              "      <th>8</th>\n",
              "      <th>9</th>\n",
              "    </tr>\n",
              "  </thead>\n",
              "  <tbody>\n",
              "    <tr>\n",
              "      <th>0</th>\n",
              "      <td>-0.007612</td>\n",
              "      <td>0.006995</td>\n",
              "      <td>0.003707</td>\n",
              "      <td>0.020907</td>\n",
              "      <td>0.018687</td>\n",
              "      <td>0.074099</td>\n",
              "      <td>-0.050330</td>\n",
              "      <td>-0.109492</td>\n",
              "      <td>-0.064250</td>\n",
              "      <td>-0.036440</td>\n",
              "    </tr>\n",
              "    <tr>\n",
              "      <th>1</th>\n",
              "      <td>0.009422</td>\n",
              "      <td>-0.044743</td>\n",
              "      <td>0.038006</td>\n",
              "      <td>0.036838</td>\n",
              "      <td>0.031048</td>\n",
              "      <td>0.165389</td>\n",
              "      <td>-0.088645</td>\n",
              "      <td>-0.172205</td>\n",
              "      <td>-0.133003</td>\n",
              "      <td>-0.066932</td>\n",
              "    </tr>\n",
              "    <tr>\n",
              "      <th>2</th>\n",
              "      <td>0.036836</td>\n",
              "      <td>-0.050470</td>\n",
              "      <td>0.008024</td>\n",
              "      <td>0.000983</td>\n",
              "      <td>0.012235</td>\n",
              "      <td>0.067220</td>\n",
              "      <td>-0.023105</td>\n",
              "      <td>-0.105013</td>\n",
              "      <td>-0.060052</td>\n",
              "      <td>-0.028037</td>\n",
              "    </tr>\n",
              "    <tr>\n",
              "      <th>3</th>\n",
              "      <td>0.017962</td>\n",
              "      <td>-0.057404</td>\n",
              "      <td>0.017734</td>\n",
              "      <td>0.030649</td>\n",
              "      <td>0.037456</td>\n",
              "      <td>0.135311</td>\n",
              "      <td>-0.077704</td>\n",
              "      <td>-0.185315</td>\n",
              "      <td>-0.108242</td>\n",
              "      <td>-0.050228</td>\n",
              "    </tr>\n",
              "    <tr>\n",
              "      <th>4</th>\n",
              "      <td>0.007377</td>\n",
              "      <td>-0.041667</td>\n",
              "      <td>0.005069</td>\n",
              "      <td>0.020856</td>\n",
              "      <td>0.039525</td>\n",
              "      <td>0.140332</td>\n",
              "      <td>-0.041391</td>\n",
              "      <td>-0.136314</td>\n",
              "      <td>-0.092909</td>\n",
              "      <td>-0.067693</td>\n",
              "    </tr>\n",
              "    <tr>\n",
              "      <th>5</th>\n",
              "      <td>0.007358</td>\n",
              "      <td>-0.067379</td>\n",
              "      <td>0.011249</td>\n",
              "      <td>0.022603</td>\n",
              "      <td>0.054186</td>\n",
              "      <td>0.141469</td>\n",
              "      <td>-0.080002</td>\n",
              "      <td>-0.209486</td>\n",
              "      <td>-0.122791</td>\n",
              "      <td>-0.070239</td>\n",
              "    </tr>\n",
              "    <tr>\n",
              "      <th>6</th>\n",
              "      <td>0.016796</td>\n",
              "      <td>-0.076907</td>\n",
              "      <td>0.025385</td>\n",
              "      <td>0.038385</td>\n",
              "      <td>0.063836</td>\n",
              "      <td>0.198467</td>\n",
              "      <td>-0.087607</td>\n",
              "      <td>-0.244783</td>\n",
              "      <td>-0.159251</td>\n",
              "      <td>-0.092914</td>\n",
              "    </tr>\n",
              "    <tr>\n",
              "      <th>7</th>\n",
              "      <td>-0.008779</td>\n",
              "      <td>-0.068871</td>\n",
              "      <td>0.042624</td>\n",
              "      <td>0.034619</td>\n",
              "      <td>0.044725</td>\n",
              "      <td>0.188553</td>\n",
              "      <td>-0.079154</td>\n",
              "      <td>-0.226029</td>\n",
              "      <td>-0.138970</td>\n",
              "      <td>-0.074883</td>\n",
              "    </tr>\n",
              "    <tr>\n",
              "      <th>8</th>\n",
              "      <td>-0.001164</td>\n",
              "      <td>0.012097</td>\n",
              "      <td>-0.000755</td>\n",
              "      <td>0.026011</td>\n",
              "      <td>0.048748</td>\n",
              "      <td>0.092135</td>\n",
              "      <td>-0.055251</td>\n",
              "      <td>-0.128523</td>\n",
              "      <td>-0.040621</td>\n",
              "      <td>-0.088216</td>\n",
              "    </tr>\n",
              "    <tr>\n",
              "      <th>9</th>\n",
              "      <td>0.001806</td>\n",
              "      <td>0.007894</td>\n",
              "      <td>0.029498</td>\n",
              "      <td>0.003739</td>\n",
              "      <td>-0.044711</td>\n",
              "      <td>-0.017858</td>\n",
              "      <td>0.036124</td>\n",
              "      <td>-0.035977</td>\n",
              "      <td>-0.012647</td>\n",
              "      <td>-0.020284</td>\n",
              "    </tr>\n",
              "    <tr>\n",
              "      <th>10</th>\n",
              "      <td>0.030170</td>\n",
              "      <td>-0.078878</td>\n",
              "      <td>0.025048</td>\n",
              "      <td>0.034569</td>\n",
              "      <td>0.054241</td>\n",
              "      <td>0.161903</td>\n",
              "      <td>-0.080836</td>\n",
              "      <td>-0.210168</td>\n",
              "      <td>-0.129098</td>\n",
              "      <td>-0.074259</td>\n",
              "    </tr>\n",
              "    <tr>\n",
              "      <th>11</th>\n",
              "      <td>0.056515</td>\n",
              "      <td>-0.079112</td>\n",
              "      <td>-0.023278</td>\n",
              "      <td>-0.004658</td>\n",
              "      <td>0.015863</td>\n",
              "      <td>0.104839</td>\n",
              "      <td>-0.071278</td>\n",
              "      <td>-0.111171</td>\n",
              "      <td>-0.125813</td>\n",
              "      <td>-0.033019</td>\n",
              "    </tr>\n",
              "    <tr>\n",
              "      <th>12</th>\n",
              "      <td>-0.006220</td>\n",
              "      <td>0.000675</td>\n",
              "      <td>0.024528</td>\n",
              "      <td>0.004043</td>\n",
              "      <td>0.005630</td>\n",
              "      <td>-0.028351</td>\n",
              "      <td>0.014858</td>\n",
              "      <td>-0.028214</td>\n",
              "      <td>-0.012582</td>\n",
              "      <td>-0.029420</td>\n",
              "    </tr>\n",
              "    <tr>\n",
              "      <th>13</th>\n",
              "      <td>0.014687</td>\n",
              "      <td>-0.015685</td>\n",
              "      <td>0.022245</td>\n",
              "      <td>0.013315</td>\n",
              "      <td>0.054250</td>\n",
              "      <td>0.118783</td>\n",
              "      <td>-0.034384</td>\n",
              "      <td>-0.159850</td>\n",
              "      <td>-0.082018</td>\n",
              "      <td>-0.070692</td>\n",
              "    </tr>\n",
              "    <tr>\n",
              "      <th>14</th>\n",
              "      <td>0.024836</td>\n",
              "      <td>-0.050826</td>\n",
              "      <td>0.016497</td>\n",
              "      <td>0.039452</td>\n",
              "      <td>0.030189</td>\n",
              "      <td>0.126913</td>\n",
              "      <td>-0.071113</td>\n",
              "      <td>-0.139787</td>\n",
              "      <td>-0.092645</td>\n",
              "      <td>-0.049780</td>\n",
              "    </tr>\n",
              "    <tr>\n",
              "      <th>15</th>\n",
              "      <td>0.008713</td>\n",
              "      <td>-0.018280</td>\n",
              "      <td>0.020792</td>\n",
              "      <td>0.036390</td>\n",
              "      <td>0.016437</td>\n",
              "      <td>0.130432</td>\n",
              "      <td>-0.076168</td>\n",
              "      <td>-0.147797</td>\n",
              "      <td>-0.066312</td>\n",
              "      <td>-0.048796</td>\n",
              "    </tr>\n",
              "  </tbody>\n",
              "</table>\n",
              "</div>\n",
              "      <button class=\"colab-df-convert\" onclick=\"convertToInteractive('df-a9aae338-b67b-4966-a3f7-35321dcdb8be')\"\n",
              "              title=\"Convert this dataframe to an interactive table.\"\n",
              "              style=\"display:none;\">\n",
              "        \n",
              "  <svg xmlns=\"http://www.w3.org/2000/svg\" height=\"24px\"viewBox=\"0 0 24 24\"\n",
              "       width=\"24px\">\n",
              "    <path d=\"M0 0h24v24H0V0z\" fill=\"none\"/>\n",
              "    <path d=\"M18.56 5.44l.94 2.06.94-2.06 2.06-.94-2.06-.94-.94-2.06-.94 2.06-2.06.94zm-11 1L8.5 8.5l.94-2.06 2.06-.94-2.06-.94L8.5 2.5l-.94 2.06-2.06.94zm10 10l.94 2.06.94-2.06 2.06-.94-2.06-.94-.94-2.06-.94 2.06-2.06.94z\"/><path d=\"M17.41 7.96l-1.37-1.37c-.4-.4-.92-.59-1.43-.59-.52 0-1.04.2-1.43.59L10.3 9.45l-7.72 7.72c-.78.78-.78 2.05 0 2.83L4 21.41c.39.39.9.59 1.41.59.51 0 1.02-.2 1.41-.59l7.78-7.78 2.81-2.81c.8-.78.8-2.07 0-2.86zM5.41 20L4 18.59l7.72-7.72 1.47 1.35L5.41 20z\"/>\n",
              "  </svg>\n",
              "      </button>\n",
              "      \n",
              "  <style>\n",
              "    .colab-df-container {\n",
              "      display:flex;\n",
              "      flex-wrap:wrap;\n",
              "      gap: 12px;\n",
              "    }\n",
              "\n",
              "    .colab-df-convert {\n",
              "      background-color: #E8F0FE;\n",
              "      border: none;\n",
              "      border-radius: 50%;\n",
              "      cursor: pointer;\n",
              "      display: none;\n",
              "      fill: #1967D2;\n",
              "      height: 32px;\n",
              "      padding: 0 0 0 0;\n",
              "      width: 32px;\n",
              "    }\n",
              "\n",
              "    .colab-df-convert:hover {\n",
              "      background-color: #E2EBFA;\n",
              "      box-shadow: 0px 1px 2px rgba(60, 64, 67, 0.3), 0px 1px 3px 1px rgba(60, 64, 67, 0.15);\n",
              "      fill: #174EA6;\n",
              "    }\n",
              "\n",
              "    [theme=dark] .colab-df-convert {\n",
              "      background-color: #3B4455;\n",
              "      fill: #D2E3FC;\n",
              "    }\n",
              "\n",
              "    [theme=dark] .colab-df-convert:hover {\n",
              "      background-color: #434B5C;\n",
              "      box-shadow: 0px 1px 3px 1px rgba(0, 0, 0, 0.15);\n",
              "      filter: drop-shadow(0px 1px 2px rgba(0, 0, 0, 0.3));\n",
              "      fill: #FFFFFF;\n",
              "    }\n",
              "  </style>\n",
              "\n",
              "      <script>\n",
              "        const buttonEl =\n",
              "          document.querySelector('#df-a9aae338-b67b-4966-a3f7-35321dcdb8be button.colab-df-convert');\n",
              "        buttonEl.style.display =\n",
              "          google.colab.kernel.accessAllowed ? 'block' : 'none';\n",
              "\n",
              "        async function convertToInteractive(key) {\n",
              "          const element = document.querySelector('#df-a9aae338-b67b-4966-a3f7-35321dcdb8be');\n",
              "          const dataTable =\n",
              "            await google.colab.kernel.invokeFunction('convertToInteractive',\n",
              "                                                     [key], {});\n",
              "          if (!dataTable) return;\n",
              "\n",
              "          const docLinkHtml = 'Like what you see? Visit the ' +\n",
              "            '<a target=\"_blank\" href=https://colab.research.google.com/notebooks/data_table.ipynb>data table notebook</a>'\n",
              "            + ' to learn more about interactive tables.';\n",
              "          element.innerHTML = '';\n",
              "          dataTable['output_type'] = 'display_data';\n",
              "          await google.colab.output.renderOutput(dataTable, element);\n",
              "          const docLink = document.createElement('div');\n",
              "          docLink.innerHTML = docLinkHtml;\n",
              "          element.appendChild(docLink);\n",
              "        }\n",
              "      </script>\n",
              "    </div>\n",
              "  </div>\n",
              "  "
            ]
          },
          "metadata": {},
          "execution_count": 30
        }
      ]
    },
    {
      "cell_type": "markdown",
      "source": [
        "### Группировка предложений"
      ],
      "metadata": {
        "id": "flY61TIvge2W"
      }
    },
    {
      "cell_type": "code",
      "source": [
        "from sklearn.cluster import AffinityPropagation\n",
        "\n",
        "print('Кластеры, назначенные на основе характеристик нашего документа\\n')\n",
        "\n",
        "corpus_df = pd.DataFrame({'Предложение': corpus})\n",
        "\n",
        "ap = AffinityPropagation()\n",
        "ap.fit(w2v_feature_array)\n",
        "cluster_labels = ap.labels_\n",
        "\n",
        "cluster_labels = pd.DataFrame(cluster_labels, columns=['Категория'])\n",
        "pd.concat([corpus_df, cluster_labels], axis=1)"
      ],
      "metadata": {
        "colab": {
          "base_uri": "https://localhost:8080/"
        },
        "id": "dTDl5x1GC0kx",
        "outputId": "eed0edb7-d62e-4e06-99ec-80ea46e033c1"
      },
      "execution_count": null,
      "outputs": [
        {
          "output_type": "stream",
          "name": "stdout",
          "text": [
            "Кластеры, назначенные на основе характеристик нашего документа\n",
            "\n",
            "10\n"
          ]
        }
      ]
    },
    {
      "cell_type": "markdown",
      "source": [
        "### Визуализация расположения каждого предложения в каждом кластере"
      ],
      "metadata": {
        "id": "VWB7Z-GwiAhr"
      }
    },
    {
      "cell_type": "code",
      "source": [
        "from sklearn.decomposition import PCA\n",
        "\n",
        "pca = PCA(n_components=2, random_state=0)\n",
        "pcs = pca.fit_transform(w2v_feature_array)\n",
        "labels = ap.labels_\n",
        "cluster_labels = pd.DataFrame(labels, columns=['Категория'])\n",
        "categories = list(cluster_labels['Категория'])\n",
        "plt.figure(figsize=(8, 6))\n",
        "\n",
        "for i in range(len(labels)):\n",
        "    label = labels[i]\n",
        "    color = 'orange' if label == 0 else 'blue' if label == 1 else 'green' if label == 2 else 'red'\n",
        "    annotation_label = categories[i]\n",
        "    x, y = pcs[i]\n",
        "    plt.scatter(x, y, c=color, edgecolors='k')\n",
        "    plt.annotate(annotation_label, xy=(x+1e-4, y+1e-3), xytext=(0, 0), textcoords='offset points')"
      ],
      "metadata": {
        "colab": {
          "base_uri": "https://localhost:8080/",
          "height": 374
        },
        "id": "PCYf02-TC4eX",
        "outputId": "9e4b8745-71b6-413b-d613-02c48a82586f"
      },
      "execution_count": null,
      "outputs": [
        {
          "output_type": "display_data",
          "data": {
            "text/plain": [
              "<Figure size 576x432 with 1 Axes>"
            ],
            "image/png": "[encoded data removed]"
          },
          "metadata": {
            "needs_background": "light"
          }
        }
      ]
    },
    {
      "cell_type": "markdown",
      "source": [
        "### Создание матрицы подобия косинусов"
      ],
      "metadata": {
        "id": "ev6FvGY-iPTs"
      }
    },
    {
      "cell_type": "code",
      "source": [
        "n = 10\n",
        "from sklearn.metrics.pairwise import cosine_similarity\n",
        "\n",
        "sim_mat = np.zeros([len(w2v_feature_array), len(w2v_feature_array)])\n",
        "for i in range(len(w2v_feature_array)):\n",
        "      for j in range(len(w2v_feature_array)):\n",
        "        if i != j:\n",
        "              sim_mat[i][j] = cosine_similarity(w2v_feature_array[i].reshape(1, n), \n",
        "                                                w2v_feature_array[j].reshape(1, n))[0][0]\n",
        "\n",
        "norm = np.sum(sim_mat, axis=1)\n",
        "sim_mat = np.divide(sim_mat, norm, where=norm!=0)\n",
        "pd.DataFrame(sim_mat)"
      ],
      "metadata": {
        "id": "xEJbDL-fYkxg",
        "colab": {
          "base_uri": "https://localhost:8080/",
          "height": 551
        },
        "outputId": "08243b42-6ca1-49bb-a9e2-5674381b489e"
      },
      "execution_count": null,
      "outputs": [
        {
          "output_type": "execute_result",
          "data": {
            "text/plain": [
              "          0         1         2         3         4         5         6   \\\n",
              "0   0.000000  0.074900  0.069551  0.074114  0.073878  0.073963  0.073675   \n",
              "1   0.076364  0.000000  0.074296  0.076176  0.076570  0.075465  0.076060   \n",
              "2   0.069027  0.072322  0.000000  0.074251  0.073199  0.073861  0.073550   \n",
              "3   0.076139  0.076756  0.076858  0.000000  0.076293  0.076749  0.076485   \n",
              "4   0.075030  0.076273  0.074905  0.075423  0.000000  0.075533  0.076211   \n",
              "5   0.076084  0.076140  0.076555  0.076851  0.076506  0.000000  0.076536   \n",
              "6   0.076010  0.076965  0.076457  0.076810  0.077418  0.076760  0.000000   \n",
              "7   0.076075  0.077072  0.075242  0.076496  0.076917  0.076281  0.076463   \n",
              "8   0.075163  0.070172  0.065275  0.069756  0.072034  0.070586  0.070440   \n",
              "9   0.010608  0.008314  0.015448  0.008115  0.006504  0.007878  0.008459   \n",
              "10  0.074935  0.076602  0.077462  0.076936  0.076796  0.076693  0.076660   \n",
              "11  0.066143  0.070615  0.075464  0.071180  0.070534  0.070658  0.070449   \n",
              "12  0.020158  0.015724  0.019723  0.017059  0.015240  0.020266  0.018809   \n",
              "13  0.075982  0.074762  0.074207  0.074676  0.076375  0.075077  0.075327   \n",
              "14  0.075133  0.077072  0.076009  0.076651  0.076489  0.075801  0.076154   \n",
              "15  0.077149  0.076311  0.072546  0.075505  0.075248  0.074429  0.074721   \n",
              "\n",
              "          7         8         9         10        11        12        13  \\\n",
              "0   0.074033  0.078639  0.061565  0.072854  0.071943  0.066433  0.074340   \n",
              "1   0.076471  0.074853  0.049197  0.075931  0.078309  0.052833  0.074577   \n",
              "2   0.072671  0.067780  0.088985  0.074743  0.081463  0.064507  0.072057   \n",
              "3   0.076476  0.074975  0.048385  0.076842  0.079536  0.057754  0.075058   \n",
              "4   0.076021  0.076541  0.038335  0.075828  0.077916  0.051007  0.075890   \n",
              "5   0.076362  0.075968  0.047034  0.076701  0.079058  0.068703  0.075561   \n",
              "6   0.076769  0.076033  0.050648  0.076892  0.079055  0.063950  0.076035   \n",
              "7   0.000000  0.075139  0.064369  0.076294  0.076779  0.064634  0.075483   \n",
              "8   0.069891  0.000000  0.036243  0.069666  0.064468  0.080122  0.073894   \n",
              "9   0.010793  0.006533  0.000000  0.007971 -0.000557  0.180551  0.012359   \n",
              "10  0.076367  0.074970  0.047585  0.000000  0.079985  0.062901  0.075430   \n",
              "11  0.068694  0.062012 -0.002974  0.071494  0.000000  0.014063  0.065910   \n",
              "12  0.019086  0.025437  0.317976  0.018557  0.004641  0.000000  0.024934   \n",
              "13  0.075079  0.079018  0.073316  0.074955  0.073273  0.083985  0.000000   \n",
              "14  0.075943  0.074627  0.031121  0.076595  0.080012  0.045114  0.074201   \n",
              "15  0.075343  0.077476  0.048215  0.074677  0.074118  0.043444  0.074272   \n",
              "\n",
              "          14        15  \n",
              "0   0.073920  0.076680  \n",
              "1   0.077311  0.077330  \n",
              "2   0.074219  0.071562  \n",
              "3   0.077473  0.077096  \n",
              "4   0.076428  0.075957  \n",
              "5   0.076716  0.076098  \n",
              "6   0.077299  0.076620  \n",
              "7   0.076777  0.076951  \n",
              "8   0.070176  0.073601  \n",
              "9   0.005276  0.008257  \n",
              "10  0.077510  0.076343  \n",
              "11  0.072374  0.067728  \n",
              "12  0.013468  0.013103  \n",
              "13  0.074615  0.075452  \n",
              "14  0.000000  0.077220  \n",
              "15  0.076438  0.000000  "
            ],
            "text/html": [
              "\n",
              "  <div id=\"df-96418d58-a7ac-4352-bbbb-0773975217b8\">\n",
              "    <div class=\"colab-df-container\">\n",
              "      <div>\n",
              "<style scoped>\n",
              "    .dataframe tbody tr th:only-of-type {\n",
              "        vertical-align: middle;\n",
              "    }\n",
              "\n",
              "    .dataframe tbody tr th {\n",
              "        vertical-align: top;\n",
              "    }\n",
              "\n",
              "    .dataframe thead th {\n",
              "        text-align: right;\n",
              "    }\n",
              "</style>\n",
              "<table border=\"1\" class=\"dataframe\">\n",
              "  <thead>\n",
              "    <tr style=\"text-align: right;\">\n",
              "      <th></th>\n",
              "      <th>0</th>\n",
              "      <th>1</th>\n",
              "      <th>2</th>\n",
              "      <th>3</th>\n",
              "      <th>4</th>\n",
              "      <th>5</th>\n",
              "      <th>6</th>\n",
              "      <th>7</th>\n",
              "      <th>8</th>\n",
              "      <th>9</th>\n",
              "      <th>10</th>\n",
              "      <th>11</th>\n",
              "      <th>12</th>\n",
              "      <th>13</th>\n",
              "      <th>14</th>\n",
              "      <th>15</th>\n",
              "    </tr>\n",
              "  </thead>\n",
              "  <tbody>\n",
              "    <tr>\n",
              "      <th>0</th>\n",
              "      <td>0.000000</td>\n",
              "      <td>0.074900</td>\n",
              "      <td>0.069551</td>\n",
              "      <td>0.074114</td>\n",
              "      <td>0.073878</td>\n",
              "      <td>0.073963</td>\n",
              "      <td>0.073675</td>\n",
              "      <td>0.074033</td>\n",
              "      <td>0.078639</td>\n",
              "      <td>0.061565</td>\n",
              "      <td>0.072854</td>\n",
              "      <td>0.071943</td>\n",
              "      <td>0.066433</td>\n",
              "      <td>0.074340</td>\n",
              "      <td>0.073920</td>\n",
              "      <td>0.076680</td>\n",
              "    </tr>\n",
              "    <tr>\n",
              "      <th>1</th>\n",
              "      <td>0.076364</td>\n",
              "      <td>0.000000</td>\n",
              "      <td>0.074296</td>\n",
              "      <td>0.076176</td>\n",
              "      <td>0.076570</td>\n",
              "      <td>0.075465</td>\n",
              "      <td>0.076060</td>\n",
              "      <td>0.076471</td>\n",
              "      <td>0.074853</td>\n",
              "      <td>0.049197</td>\n",
              "      <td>0.075931</td>\n",
              "      <td>0.078309</td>\n",
              "      <td>0.052833</td>\n",
              "      <td>0.074577</td>\n",
              "      <td>0.077311</td>\n",
              "      <td>0.077330</td>\n",
              "    </tr>\n",
              "    <tr>\n",
              "      <th>2</th>\n",
              "      <td>0.069027</td>\n",
              "      <td>0.072322</td>\n",
              "      <td>0.000000</td>\n",
              "      <td>0.074251</td>\n",
              "      <td>0.073199</td>\n",
              "      <td>0.073861</td>\n",
              "      <td>0.073550</td>\n",
              "      <td>0.072671</td>\n",
              "      <td>0.067780</td>\n",
              "      <td>0.088985</td>\n",
              "      <td>0.074743</td>\n",
              "      <td>0.081463</td>\n",
              "      <td>0.064507</td>\n",
              "      <td>0.072057</td>\n",
              "      <td>0.074219</td>\n",
              "      <td>0.071562</td>\n",
              "    </tr>\n",
              "    <tr>\n",
              "      <th>3</th>\n",
              "      <td>0.076139</td>\n",
              "      <td>0.076756</td>\n",
              "      <td>0.076858</td>\n",
              "      <td>0.000000</td>\n",
              "      <td>0.076293</td>\n",
              "      <td>0.076749</td>\n",
              "      <td>0.076485</td>\n",
              "      <td>0.076476</td>\n",
              "      <td>0.074975</td>\n",
              "      <td>0.048385</td>\n",
              "      <td>0.076842</td>\n",
              "      <td>0.079536</td>\n",
              "      <td>0.057754</td>\n",
              "      <td>0.075058</td>\n",
              "      <td>0.077473</td>\n",
              "      <td>0.077096</td>\n",
              "    </tr>\n",
              "    <tr>\n",
              "      <th>4</th>\n",
              "      <td>0.075030</td>\n",
              "      <td>0.076273</td>\n",
              "      <td>0.074905</td>\n",
              "      <td>0.075423</td>\n",
              "      <td>0.000000</td>\n",
              "      <td>0.075533</td>\n",
              "      <td>0.076211</td>\n",
              "      <td>0.076021</td>\n",
              "      <td>0.076541</td>\n",
              "      <td>0.038335</td>\n",
              "      <td>0.075828</td>\n",
              "      <td>0.077916</td>\n",
              "      <td>0.051007</td>\n",
              "      <td>0.075890</td>\n",
              "      <td>0.076428</td>\n",
              "      <td>0.075957</td>\n",
              "    </tr>\n",
              "    <tr>\n",
              "      <th>5</th>\n",
              "      <td>0.076084</td>\n",
              "      <td>0.076140</td>\n",
              "      <td>0.076555</td>\n",
              "      <td>0.076851</td>\n",
              "      <td>0.076506</td>\n",
              "      <td>0.000000</td>\n",
              "      <td>0.076536</td>\n",
              "      <td>0.076362</td>\n",
              "      <td>0.075968</td>\n",
              "      <td>0.047034</td>\n",
              "      <td>0.076701</td>\n",
              "      <td>0.079058</td>\n",
              "      <td>0.068703</td>\n",
              "      <td>0.075561</td>\n",
              "      <td>0.076716</td>\n",
              "      <td>0.076098</td>\n",
              "    </tr>\n",
              "    <tr>\n",
              "      <th>6</th>\n",
              "      <td>0.076010</td>\n",
              "      <td>0.076965</td>\n",
              "      <td>0.076457</td>\n",
              "      <td>0.076810</td>\n",
              "      <td>0.077418</td>\n",
              "      <td>0.076760</td>\n",
              "      <td>0.000000</td>\n",
              "      <td>0.076769</td>\n",
              "      <td>0.076033</td>\n",
              "      <td>0.050648</td>\n",
              "      <td>0.076892</td>\n",
              "      <td>0.079055</td>\n",
              "      <td>0.063950</td>\n",
              "      <td>0.076035</td>\n",
              "      <td>0.077299</td>\n",
              "      <td>0.076620</td>\n",
              "    </tr>\n",
              "    <tr>\n",
              "      <th>7</th>\n",
              "      <td>0.076075</td>\n",
              "      <td>0.077072</td>\n",
              "      <td>0.075242</td>\n",
              "      <td>0.076496</td>\n",
              "      <td>0.076917</td>\n",
              "      <td>0.076281</td>\n",
              "      <td>0.076463</td>\n",
              "      <td>0.000000</td>\n",
              "      <td>0.075139</td>\n",
              "      <td>0.064369</td>\n",
              "      <td>0.076294</td>\n",
              "      <td>0.076779</td>\n",
              "      <td>0.064634</td>\n",
              "      <td>0.075483</td>\n",
              "      <td>0.076777</td>\n",
              "      <td>0.076951</td>\n",
              "    </tr>\n",
              "    <tr>\n",
              "      <th>8</th>\n",
              "      <td>0.075163</td>\n",
              "      <td>0.070172</td>\n",
              "      <td>0.065275</td>\n",
              "      <td>0.069756</td>\n",
              "      <td>0.072034</td>\n",
              "      <td>0.070586</td>\n",
              "      <td>0.070440</td>\n",
              "      <td>0.069891</td>\n",
              "      <td>0.000000</td>\n",
              "      <td>0.036243</td>\n",
              "      <td>0.069666</td>\n",
              "      <td>0.064468</td>\n",
              "      <td>0.080122</td>\n",
              "      <td>0.073894</td>\n",
              "      <td>0.070176</td>\n",
              "      <td>0.073601</td>\n",
              "    </tr>\n",
              "    <tr>\n",
              "      <th>9</th>\n",
              "      <td>0.010608</td>\n",
              "      <td>0.008314</td>\n",
              "      <td>0.015448</td>\n",
              "      <td>0.008115</td>\n",
              "      <td>0.006504</td>\n",
              "      <td>0.007878</td>\n",
              "      <td>0.008459</td>\n",
              "      <td>0.010793</td>\n",
              "      <td>0.006533</td>\n",
              "      <td>0.000000</td>\n",
              "      <td>0.007971</td>\n",
              "      <td>-0.000557</td>\n",
              "      <td>0.180551</td>\n",
              "      <td>0.012359</td>\n",
              "      <td>0.005276</td>\n",
              "      <td>0.008257</td>\n",
              "    </tr>\n",
              "    <tr>\n",
              "      <th>10</th>\n",
              "      <td>0.074935</td>\n",
              "      <td>0.076602</td>\n",
              "      <td>0.077462</td>\n",
              "      <td>0.076936</td>\n",
              "      <td>0.076796</td>\n",
              "      <td>0.076693</td>\n",
              "      <td>0.076660</td>\n",
              "      <td>0.076367</td>\n",
              "      <td>0.074970</td>\n",
              "      <td>0.047585</td>\n",
              "      <td>0.000000</td>\n",
              "      <td>0.079985</td>\n",
              "      <td>0.062901</td>\n",
              "      <td>0.075430</td>\n",
              "      <td>0.077510</td>\n",
              "      <td>0.076343</td>\n",
              "    </tr>\n",
              "    <tr>\n",
              "      <th>11</th>\n",
              "      <td>0.066143</td>\n",
              "      <td>0.070615</td>\n",
              "      <td>0.075464</td>\n",
              "      <td>0.071180</td>\n",
              "      <td>0.070534</td>\n",
              "      <td>0.070658</td>\n",
              "      <td>0.070449</td>\n",
              "      <td>0.068694</td>\n",
              "      <td>0.062012</td>\n",
              "      <td>-0.002974</td>\n",
              "      <td>0.071494</td>\n",
              "      <td>0.000000</td>\n",
              "      <td>0.014063</td>\n",
              "      <td>0.065910</td>\n",
              "      <td>0.072374</td>\n",
              "      <td>0.067728</td>\n",
              "    </tr>\n",
              "    <tr>\n",
              "      <th>12</th>\n",
              "      <td>0.020158</td>\n",
              "      <td>0.015724</td>\n",
              "      <td>0.019723</td>\n",
              "      <td>0.017059</td>\n",
              "      <td>0.015240</td>\n",
              "      <td>0.020266</td>\n",
              "      <td>0.018809</td>\n",
              "      <td>0.019086</td>\n",
              "      <td>0.025437</td>\n",
              "      <td>0.317976</td>\n",
              "      <td>0.018557</td>\n",
              "      <td>0.004641</td>\n",
              "      <td>0.000000</td>\n",
              "      <td>0.024934</td>\n",
              "      <td>0.013468</td>\n",
              "      <td>0.013103</td>\n",
              "    </tr>\n",
              "    <tr>\n",
              "      <th>13</th>\n",
              "      <td>0.075982</td>\n",
              "      <td>0.074762</td>\n",
              "      <td>0.074207</td>\n",
              "      <td>0.074676</td>\n",
              "      <td>0.076375</td>\n",
              "      <td>0.075077</td>\n",
              "      <td>0.075327</td>\n",
              "      <td>0.075079</td>\n",
              "      <td>0.079018</td>\n",
              "      <td>0.073316</td>\n",
              "      <td>0.074955</td>\n",
              "      <td>0.073273</td>\n",
              "      <td>0.083985</td>\n",
              "      <td>0.000000</td>\n",
              "      <td>0.074615</td>\n",
              "      <td>0.075452</td>\n",
              "    </tr>\n",
              "    <tr>\n",
              "      <th>14</th>\n",
              "      <td>0.075133</td>\n",
              "      <td>0.077072</td>\n",
              "      <td>0.076009</td>\n",
              "      <td>0.076651</td>\n",
              "      <td>0.076489</td>\n",
              "      <td>0.075801</td>\n",
              "      <td>0.076154</td>\n",
              "      <td>0.075943</td>\n",
              "      <td>0.074627</td>\n",
              "      <td>0.031121</td>\n",
              "      <td>0.076595</td>\n",
              "      <td>0.080012</td>\n",
              "      <td>0.045114</td>\n",
              "      <td>0.074201</td>\n",
              "      <td>0.000000</td>\n",
              "      <td>0.077220</td>\n",
              "    </tr>\n",
              "    <tr>\n",
              "      <th>15</th>\n",
              "      <td>0.077149</td>\n",
              "      <td>0.076311</td>\n",
              "      <td>0.072546</td>\n",
              "      <td>0.075505</td>\n",
              "      <td>0.075248</td>\n",
              "      <td>0.074429</td>\n",
              "      <td>0.074721</td>\n",
              "      <td>0.075343</td>\n",
              "      <td>0.077476</td>\n",
              "      <td>0.048215</td>\n",
              "      <td>0.074677</td>\n",
              "      <td>0.074118</td>\n",
              "      <td>0.043444</td>\n",
              "      <td>0.074272</td>\n",
              "      <td>0.076438</td>\n",
              "      <td>0.000000</td>\n",
              "    </tr>\n",
              "  </tbody>\n",
              "</table>\n",
              "</div>\n",
              "      <button class=\"colab-df-convert\" onclick=\"convertToInteractive('df-96418d58-a7ac-4352-bbbb-0773975217b8')\"\n",
              "              title=\"Convert this dataframe to an interactive table.\"\n",
              "              style=\"display:none;\">\n",
              "        \n",
              "  <svg xmlns=\"http://www.w3.org/2000/svg\" height=\"24px\"viewBox=\"0 0 24 24\"\n",
              "       width=\"24px\">\n",
              "    <path d=\"M0 0h24v24H0V0z\" fill=\"none\"/>\n",
              "    <path d=\"M18.56 5.44l.94 2.06.94-2.06 2.06-.94-2.06-.94-.94-2.06-.94 2.06-2.06.94zm-11 1L8.5 8.5l.94-2.06 2.06-.94-2.06-.94L8.5 2.5l-.94 2.06-2.06.94zm10 10l.94 2.06.94-2.06 2.06-.94-2.06-.94-.94-2.06-.94 2.06-2.06.94z\"/><path d=\"M17.41 7.96l-1.37-1.37c-.4-.4-.92-.59-1.43-.59-.52 0-1.04.2-1.43.59L10.3 9.45l-7.72 7.72c-.78.78-.78 2.05 0 2.83L4 21.41c.39.39.9.59 1.41.59.51 0 1.02-.2 1.41-.59l7.78-7.78 2.81-2.81c.8-.78.8-2.07 0-2.86zM5.41 20L4 18.59l7.72-7.72 1.47 1.35L5.41 20z\"/>\n",
              "  </svg>\n",
              "      </button>\n",
              "      \n",
              "  <style>\n",
              "    .colab-df-container {\n",
              "      display:flex;\n",
              "      flex-wrap:wrap;\n",
              "      gap: 12px;\n",
              "    }\n",
              "\n",
              "    .colab-df-convert {\n",
              "      background-color: #E8F0FE;\n",
              "      border: none;\n",
              "      border-radius: 50%;\n",
              "      cursor: pointer;\n",
              "      display: none;\n",
              "      fill: #1967D2;\n",
              "      height: 32px;\n",
              "      padding: 0 0 0 0;\n",
              "      width: 32px;\n",
              "    }\n",
              "\n",
              "    .colab-df-convert:hover {\n",
              "      background-color: #E2EBFA;\n",
              "      box-shadow: 0px 1px 2px rgba(60, 64, 67, 0.3), 0px 1px 3px 1px rgba(60, 64, 67, 0.15);\n",
              "      fill: #174EA6;\n",
              "    }\n",
              "\n",
              "    [theme=dark] .colab-df-convert {\n",
              "      background-color: #3B4455;\n",
              "      fill: #D2E3FC;\n",
              "    }\n",
              "\n",
              "    [theme=dark] .colab-df-convert:hover {\n",
              "      background-color: #434B5C;\n",
              "      box-shadow: 0px 1px 3px 1px rgba(0, 0, 0, 0.15);\n",
              "      filter: drop-shadow(0px 1px 2px rgba(0, 0, 0, 0.3));\n",
              "      fill: #FFFFFF;\n",
              "    }\n",
              "  </style>\n",
              "\n",
              "      <script>\n",
              "        const buttonEl =\n",
              "          document.querySelector('#df-96418d58-a7ac-4352-bbbb-0773975217b8 button.colab-df-convert');\n",
              "        buttonEl.style.display =\n",
              "          google.colab.kernel.accessAllowed ? 'block' : 'none';\n",
              "\n",
              "        async function convertToInteractive(key) {\n",
              "          const element = document.querySelector('#df-96418d58-a7ac-4352-bbbb-0773975217b8');\n",
              "          const dataTable =\n",
              "            await google.colab.kernel.invokeFunction('convertToInteractive',\n",
              "                                                     [key], {});\n",
              "          if (!dataTable) return;\n",
              "\n",
              "          const docLinkHtml = 'Like what you see? Visit the ' +\n",
              "            '<a target=\"_blank\" href=https://colab.research.google.com/notebooks/data_table.ipynb>data table notebook</a>'\n",
              "            + ' to learn more about interactive tables.';\n",
              "          element.innerHTML = '';\n",
              "          dataTable['output_type'] = 'display_data';\n",
              "          await google.colab.output.renderOutput(dataTable, element);\n",
              "          const docLink = document.createElement('div');\n",
              "          docLink.innerHTML = docLinkHtml;\n",
              "          element.appendChild(docLink);\n",
              "        }\n",
              "      </script>\n",
              "    </div>\n",
              "  </div>\n",
              "  "
            ]
          },
          "metadata": {},
          "execution_count": 29
        }
      ]
    },
    {
      "cell_type": "markdown",
      "source": [
        "### Расчет баллов Pagerank для каждого предложения"
      ],
      "metadata": {
        "id": "thUItA2qiUpj"
      }
    },
    {
      "cell_type": "code",
      "source": [
        "import networkx as nx\n",
        "\n",
        "G = nx.from_numpy_array(np.array(sim_mat))  \n",
        "scores = nx.pagerank(G)\n",
        "\n",
        "# Вывод лучших k-предложений с наивысшими баллами\n",
        "ranked_sentences = sorted(((scores[i],s) for i,s in enumerate(text)), reverse=True)\n",
        "\n",
        "k = int(len(text) / 10 + 0.5)\n",
        "my_list = []\n",
        "for i in range(k):\n",
        "    my_list.append(ranked_sentences[i][1])\n",
        "\n",
        "for i in text:\n",
        "  if i in my_list:\n",
        "    print(i + '\\n') "
      ],
      "metadata": {
        "colab": {
          "base_uri": "https://localhost:8080/"
        },
        "id": "GyW5yEKRYs23",
        "outputId": "72daf361-2b33-4dd7-9488-a4365f9858e4"
      },
      "execution_count": null,
      "outputs": [
        {
          "output_type": "stream",
          "name": "stdout",
          "text": [
            "Вот подите же, наши учителя народ всё мыслящий, глубоко порядочный, воспитанный на Тургеневе и Щедрине, однако же этот человечек, ходивший всегда в калошах и с зонтиком, держал в руках всю гимназию целых пятнадцать лет!\n",
            "\n",
            "Наши дамы по субботам домашних спектаклей не устраивали, боялись, как бы он не узнал; и духовенство стеснялось при нем кушать скоромное и играть в карты.\n",
            "\n",
            "Под влиянием таких людей, как Беликов, за последние десять — пятнадцать лет в нашем городе стали бояться всего.\n",
            "\n",
            "Боятся громко говорить, посылать письма, знакомиться, читать книги, боятся помогать бедным, учить грамоте…\n",
            "\n"
          ]
        }
      ]
    }
  ]
}